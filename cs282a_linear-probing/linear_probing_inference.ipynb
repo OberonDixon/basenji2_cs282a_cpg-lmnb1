{
 "cells": [
  {
   "cell_type": "code",
   "execution_count": 11,
   "id": "bb536f5d",
   "metadata": {},
   "outputs": [],
   "source": [
    "import torch\n",
    "from torch import nn\n",
    "from torch.utils.data import DataLoader\n",
    "\n",
    "from linear_transform import LinearTransform\n",
    "from pearsonr import PearsonR\n",
    "from utils import *\n",
    "from tqdm import tqdm"
   ]
  },
  {
   "cell_type": "code",
   "execution_count": 13,
   "id": "1963846b",
   "metadata": {},
   "outputs": [
    {
     "data": {
      "text/plain": [
       "LinearTransform(\n",
       "  (conv_layer): Conv1d(1536, 18, kernel_size=(1,), stride=(1,))\n",
       "  (activation): Softplus(beta=1, threshold=20)\n",
       ")"
      ]
     },
     "execution_count": 13,
     "metadata": {},
     "output_type": "execute_result"
    }
   ],
   "source": [
    "trained_probe = LinearTransform()\n",
    "trained_probe.load_state_dict(torch.load('first_full_run.pth',map_location=torch.device('cpu')))\n",
    "trained_probe.eval()"
   ]
  },
  {
   "cell_type": "code",
   "execution_count": 9,
   "id": "9de95765",
   "metadata": {},
   "outputs": [],
   "source": [
    "predictions_savepath = '/clusterfs/nilah/oberon/datasets/cs282a/inference/probe_first_full_run.h5'\n",
    "f = h5py.File('/clusterfs/nilah/oberon/datasets/basenji/embeddings/embeddings.h5','r')\n",
    "dset = f['embeddings']"
   ]
  },
  {
   "cell_type": "code",
   "execution_count": 18,
   "id": "487de2f1",
   "metadata": {},
   "outputs": [
    {
     "name": "stderr",
     "output_type": "stream",
     "text": [
      "100%|██████████| 38171/38171 [29:08<00:00, 21.83it/s]  \n"
     ]
    }
   ],
   "source": [
    "with h5py.File(predictions_savepath,'w') as savefile:\n",
    "    savefile.create_dataset(\n",
    "        '128bp_bins',\n",
    "        shape=(len(dset),896,18),\n",
    "        chunks=(1,896,18),\n",
    "        compression='gzip',\n",
    "        compression_opts=9,\n",
    "    )\n",
    "    for i in tqdm(range(len(dset))):\n",
    "        inputs = torch.Tensor(f['embeddings'][i])\n",
    "        predictions = trained_probe(inputs.transpose(0,1))\n",
    "        savefile['128bp_bins'][i,:,:] = predictions.detach().transpose(0,1)"
   ]
  },
  {
   "cell_type": "code",
   "execution_count": null,
   "id": "765ba6d2",
   "metadata": {},
   "outputs": [],
   "source": []
  }
 ],
 "metadata": {
  "kernelspec": {
   "display_name": "basenji",
   "language": "python",
   "name": "basenji"
  },
  "language_info": {
   "codemirror_mode": {
    "name": "ipython",
    "version": 3
   },
   "file_extension": ".py",
   "mimetype": "text/x-python",
   "name": "python",
   "nbconvert_exporter": "python",
   "pygments_lexer": "ipython3",
   "version": "3.9.0"
  }
 },
 "nbformat": 4,
 "nbformat_minor": 5
}
