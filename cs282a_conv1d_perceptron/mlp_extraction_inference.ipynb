{
 "cells": [
  {
   "cell_type": "code",
   "execution_count": 2,
   "id": "52031da4",
   "metadata": {},
   "outputs": [],
   "source": [
    "from ds_util import get_dataset\n",
    "from perceptron_model import MLPModel\n",
    "import numpy as np\n",
    "import torch\n",
    "import h5py\n",
    "from datetime import datetime\n",
    "from torch.utils.tensorboard import SummaryWriter\n",
    "from scipy.stats import spearmanr, pearsonr\n",
    "from tqdm import tqdm"
   ]
  },
  {
   "cell_type": "code",
   "execution_count": 3,
   "id": "5a2253c3",
   "metadata": {},
   "outputs": [],
   "source": [
    "predictions_savepath = '/clusterfs/nilah/oberon/datasets/cs282a/inference/mlp_model_20231128_063541_2.h5'"
   ]
  },
  {
   "cell_type": "code",
   "execution_count": 4,
   "id": "5d659c90",
   "metadata": {},
   "outputs": [],
   "source": [
    "f = h5py.File('/clusterfs/nilah/oberon/datasets/basenji/embeddings/embeddings.h5','r')"
   ]
  },
  {
   "cell_type": "code",
   "execution_count": 5,
   "id": "00561b68",
   "metadata": {},
   "outputs": [],
   "source": [
    "dset = f['embeddings']"
   ]
  },
  {
   "cell_type": "code",
   "execution_count": 6,
   "id": "b9193c33",
   "metadata": {},
   "outputs": [
    {
     "data": {
      "text/plain": [
       "MLPModel(\n",
       "  (layers): Sequential(\n",
       "    (conv1x1): Conv1d(1536, 500, kernel_size=(1,), stride=(1,))\n",
       "    (gelu1): GELU(approximate='none')\n",
       "    (flatten): Flatten(start_dim=1, end_dim=-1)\n",
       "    (fc1): Linear(in_features=448000, out_features=18, bias=True)\n",
       "  )\n",
       ")"
      ]
     },
     "execution_count": 6,
     "metadata": {},
     "output_type": "execute_result"
    }
   ],
   "source": [
    "trained_model = MLPModel()\n",
    "trained_model.load_state_dict(torch.load('model_20231128_063541_2'))\n",
    "trained_model.eval()"
   ]
  },
  {
   "cell_type": "code",
   "execution_count": 7,
   "id": "06878539",
   "metadata": {},
   "outputs": [
    {
     "name": "stderr",
     "output_type": "stream",
     "text": [
      "100%|██████████| 38171/38171 [27:29<00:00, 23.15it/s]  \n"
     ]
    }
   ],
   "source": [
    "with h5py.File(predictions_savepath,'w') as savefile:\n",
    "    savefile.create_dataset(\n",
    "        'single_bin',\n",
    "        shape=(len(dset),1,18),\n",
    "        chunks=(1,1,18),\n",
    "        compression='gzip',\n",
    "        compression_opts=9,\n",
    "    )\n",
    "    for i in tqdm(range(len(dset))):\n",
    "        inputs = torch.Tensor(f['embeddings'][i]).reshape([1,896,1536])\n",
    "        predictions = trained_model(inputs.transpose(1,2))\n",
    "        savefile['single_bin'][i,:,:] = predictions.detach()\n"
   ]
  },
  {
   "cell_type": "code",
   "execution_count": null,
   "id": "81042442",
   "metadata": {},
   "outputs": [],
   "source": []
  }
 ],
 "metadata": {
  "kernelspec": {
   "display_name": "pytorch_cs282a_mlp",
   "language": "python",
   "name": "pytorch_cs282a_mlp"
  },
  "language_info": {
   "codemirror_mode": {
    "name": "ipython",
    "version": 3
   },
   "file_extension": ".py",
   "mimetype": "text/x-python",
   "name": "python",
   "nbconvert_exporter": "python",
   "pygments_lexer": "ipython3",
   "version": "3.8.18"
  }
 },
 "nbformat": 4,
 "nbformat_minor": 5
}
