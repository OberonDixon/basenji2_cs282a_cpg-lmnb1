{
 "cells": [
  {
   "cell_type": "markdown",
   "metadata": {},
   "source": [
    "Although Basenji is unaware of the locations of known genes in the genome, we can go in afterwards and ask what a model predicts for those locations to interpret it as a gene expression prediction.\n",
    "\n",
    "To do this, you'll need\n",
    " * Trained model\n",
    " * Gene Transfer Format (GTF) gene annotations\n",
    " * BigWig coverage tracks\n",
    " * Gene sequences saved in my HDF5 format.\n",
    " \n",
    "First, make sure you have an hg19 FASTA file visible. If you have it already, put a symbolic link into the data directory. Otherwise, I have a machine learning friendly simplified version you can download in the next cell."
   ]
  },
  {
   "cell_type": "code",
   "execution_count": 1,
   "metadata": {
    "collapsed": true
   },
   "outputs": [],
   "source": [
    "import os, subprocess\n",
    "\n",
    "if not os.path.isfile('data/hg19.ml.fa'):\n",
    "    subprocess.call('curl -o data/hg19.ml.fa https://storage.googleapis.com/basenji_tutorial_data/hg19.ml.fa', shell=True)\n",
    "    subprocess.call('curl -o data/hg19.ml.fa.fai https://storage.googleapis.com/basenji_tutorial_data/hg19.ml.fa.fai', shell=True)                "
   ]
  },
  {
   "cell_type": "markdown",
   "metadata": {},
   "source": [
    "Next, let's grab a few CAGE datasets from FANTOM5 related to heart biology.\n",
    "\n",
    "These data were processed by\n",
    "1. Aligning with Bowtie2 with very sensitive alignment parameters.\n",
    "2. Distributing multi-mapping reads and estimating genomic coverage with bam_cov.py"
   ]
  },
  {
   "cell_type": "code",
   "execution_count": 2,
   "metadata": {
    "collapsed": true
   },
   "outputs": [],
   "source": [
    "if not os.path.isfile('data/CNhs11760.bw'):\n",
    "    subprocess.call('curl -o data/CNhs11760.bw https://storage.googleapis.com/basenji_tutorial_data/CNhs11760.bw', shell=True)\n",
    "    subprocess.call('curl -o data/CNhs12843.bw https://storage.googleapis.com/basenji_tutorial_data/CNhs12843.bw', shell=True)\n",
    "    subprocess.call('curl -o data/CNhs12856.bw https://storage.googleapis.com/basenji_tutorial_data/CNhs12856.bw', shell=True)"
   ]
  },
  {
   "cell_type": "markdown",
   "metadata": {},
   "source": [
    "Then we'll write out these BigWig files and labels to a samples table."
   ]
  },
  {
   "cell_type": "code",
   "execution_count": 3,
   "metadata": {
    "collapsed": true
   },
   "outputs": [],
   "source": [
    "samples_out = open('data/heart_wigs.txt', 'w')\n",
    "print('aorta\\tdata/CNhs11760.bw', file=samples_out)\n",
    "print('artery\\tdata/CNhs12843.bw', file=samples_out)\n",
    "print('pulmonic_valve\\tdata/CNhs12856.bw', file=samples_out)\n",
    "samples_out.close()"
   ]
  },
  {
   "cell_type": "markdown",
   "metadata": {},
   "source": [
    "Predictions in the portion of the genome that we trained might inflate our accuracy, so we'll focus on chr9 genes, which have formed my typical test set. Then we use [basenji_hdf5_genes.py](https://github.com/calico/basenji/blob/master/bin/basenji_hdf5_genes.py) to create the file.\n",
    "\n",
    "The most relevant options are:\n",
    "\n",
    "| Option/Argument | Value | Note |\n",
    "|:---|:---|:---|\n",
    "| -g | data/human.hg19.genome | Genome assembly chromosome length to bound gene sequences. |\n",
    "| -l | 262144 | Sequence length. |\n",
    "| -c | 0.333 | Multiple genes per sequence are allowed, but the TSS must be in the middle 1/3 of the sequence. |\n",
    "| -p | 3 | Use 3 threads via \n",
    "| -t | data/heart_wigs.txt | Save coverage values from this table of BigWig files. |\n",
    "| -w | 128 | Bin the coverage values at 128 bp resolution. |\n",
    "| fasta_file | data/hg19.ml.fa | Genome FASTA file for extracting sequences. |\n",
    "| gtf_file | data/gencode_chr9.gtf | Gene annotations in gene transfer format. |\n",
    "| hdf5_file | data/gencode_chr9_l262k_w128.h5 | Gene sequence output HDF5 file. |"
   ]
  },
  {
   "cell_type": "code",
   "execution_count": 7,
   "metadata": {
    "collapsed": true
   },
   "outputs": [
    {
     "name": "stdout",
     "output_type": "stream",
     "text": [
      "/Users/davidkelley/anaconda3/lib/python3.5/site-packages/h5py/__init__.py:34: FutureWarning: Conversion of the second argument of issubdtype from `float` to `np.floating` is deprecated. In future, it will be treated as `np.float64 == np.dtype(float).type`.\n",
      "  from ._conv import register_converters as _register_converters\n",
      "Cannot find ENCSR000EJD_3_1\n"
     ]
    }
   ],
   "source": [
    "! basenji_hdf5_genes.py -g data/human.hg19.genome -l 262144 -c 0.333 -p 3 -t data/gm12878_wigs.txt -w 128 data/hg19.ml.fa data/gencode_chr9.gtf data/gencode_chr9_l262k_w128.h5"
   ]
  },
  {
   "cell_type": "markdown",
   "metadata": {},
   "source": [
    "Now, you can either train your own model in the [Train/test tutorial](https://github.com/calico/basenji/blob/master/tutorials/train_test.ipynb) or download one that I pre-trained."
   ]
  },
  {
   "cell_type": "code",
   "execution_count": 5,
   "metadata": {
    "collapsed": true
   },
   "outputs": [],
   "source": [
    "if not os.path.isfile('models/gm12878_d10/model_best.tf.meta'):\n",
    "    subprocess.call('curl -o models/gm12878_d10/model_best.tf.index https://storage.googleapis.com/basenji_tutorial_data/gm12878_d10/model_best.tf.index', shell=True)\n",
    "    subprocess.call('curl -o models/gm12878_d10/model_best.tf.meta https://storage.googleapis.com/basenji_tutorial_data/gm12878_d10/model_best.tf.meta', shell=True)\n",
    "    subprocess.call('curl -o models/gm12878_d10/model_best.tf.data-00000-of-00001 https://storage.googleapis.com/basenji_tutorial_data/gm12878_d10/model_best.tf.data-00000-of-00001', shell=True)"
   ]
  },
  {
   "cell_type": "markdown",
   "metadata": {},
   "source": [
    "Finally, you can offer data/gencode_chr9_l262k_w128.h5 and the model to [basenji_test_genes.py](https://github.com/calico/basenji/blob/master/bin/basenji_test_genes.py) to make gene expression predictions and benchmark them.\n",
    "\n",
    "The most relevant options are:\n",
    "\n",
    "| Option/Argument | Value | Note |\n",
    "|:---|:---|:---|\n",
    "| -o | data/gencode_chr9_test | Output directory. |\n",
    "| --rc | | Average the forward and reverse complement to form prediction. |\n",
    "| -s | | Make scatter plots, comparing predictions to experiment values. |\n",
    "| --table | | Print gene expression table. |\n",
    "| params_file | models/params_small.txt | Table of parameters to setup the model architecture and optimization. |\n",
    "| model_file | models/gm12878_best.tf | Trained saved model prefix. |\n",
    "| genes_hdf5_file | data/gencode_chr9_l262k_w128.h5 | HDF5 file containing the gene sequences, annotations, and experiment values. |"
   ]
  },
  {
   "cell_type": "code",
   "execution_count": 6,
   "metadata": {
    "collapsed": true
   },
   "outputs": [
    {
     "name": "stdout",
     "output_type": "stream",
     "text": [
      "/Users/davidkelley/anaconda3/lib/python3.5/site-packages/h5py/__init__.py:34: FutureWarning: Conversion of the second argument of issubdtype from `float` to `np.floating` is deprecated. In future, it will be treated as `np.float64 == np.dtype(float).type`.\n",
      "  from ._conv import register_converters as _register_converters\n",
      "/Users/davidkelley/anaconda3/lib/python3.5/importlib/_bootstrap.py:222: RuntimeWarning: compiletime version 3.6 of module 'tensorflow.python.framework.fast_tensor_util' does not match runtime version 3.5\n",
      "  return f(*args, **kwds)\n",
      "/Users/davidkelley/anaconda3/lib/python3.5/site-packages/matplotlib/__init__.py:1405: UserWarning: \n",
      "This call to matplotlib.use() has no effect because the backend has already\n",
      "been chosen; matplotlib.use() must be called *before* pylab, matplotlib.pyplot,\n",
      "or matplotlib.backends is imported for the first time.\n",
      "\n",
      "  warnings.warn(_use_error_msg)\n",
      "{'loss': 'poisson', 'cnn_dropout': 0.05, 'batch_size': 2, 'cnn_filter_sizes': [20, 6, 6, 6, 3, 3, 3, 3, 3, 3, 3, 1], 'cnn_dense': [0, 0, 0, 0, 0, 1, 1, 1, 1, 1, 1, 0], 'adam_beta2': 0.98, 'target_pool': 128, 'cnn_filters': [128, 128, 192, 256, 256, 32, 32, 32, 32, 32, 32, 384], 'batch_buffer': 16384, 'link': 'softplus', 'optimizer': 'adam', 'num_targets': 39, 'adam_beta1': 0.97, 'cnn_pool': [2, 4, 4, 4, 1, 0, 0, 0, 0, 0, 0, 0], 'cnn_dilation': [1, 1, 1, 1, 1, 2, 4, 8, 16, 32, 64, 1], 'learning_rate': 0.002}\n",
      "Targets pooled by 128 to length 2048\n",
      "Convolution w/ 39 384x1 filters to final targets\n",
      "Computing gene predictions.2018-05-12 20:55:57.558346: I tensorflow/core/platform/cpu_feature_guard.cc:137] Your CPU supports instructions that this TensorFlow binary was not compiled to use: SSE4.2 AVX AVX2 FMA\n",
      " Done in 466s.\n",
      "Computing correlations.Traceback (most recent call last):\n",
      "  File \"/Users/davidkelley/code/Basenji/bin/basenji_test_genes.py\", line 977, in <module>\n",
      "    main()\n",
      "  File \"/Users/davidkelley/code/Basenji/bin/basenji_test_genes.py\", line 261, in main\n",
      "    '%s/tss_cors.txt' % options.out_dir)\n",
      "  File \"/Users/davidkelley/code/Basenji/bin/basenji_test_genes.py\", line 542, in cor_table\n",
      "    scor, _ = spearmanr(gti, gpi)\n",
      "  File \"/Users/davidkelley/anaconda3/lib/python3.5/site-packages/scipy/stats/stats.py\", line 3309, in spearmanr\n",
      "    rs = np.corrcoef(ar, br, rowvar=axisout)\n",
      "  File \"/Users/davidkelley/anaconda3/lib/python3.5/site-packages/numpy/lib/function_base.py\", line 3175, in corrcoef\n",
      "    c = cov(x, y, rowvar)\n",
      "  File \"/Users/davidkelley/anaconda3/lib/python3.5/site-packages/numpy/lib/function_base.py\", line 3044, in cov\n",
      "    X = np.concatenate((X, y), axis=0)\n",
      "ValueError: all the input array dimensions except for the concatenation axis must match exactly\n"
     ]
    }
   ],
   "source": [
    "! basenji_test_genes.py -o data/gencode_chr9_test --rc -s --table models/params_small.txt models/gm12878_d10/model_best.tf data/gencode_chr9_l262k_w128.h5"
   ]
  },
  {
   "cell_type": "markdown",
   "metadata": {},
   "source": [
    "Describe the output..."
   ]
  }
 ],
 "metadata": {
  "kernelspec": {
   "display_name": "Python [default]",
   "language": "python",
   "name": "python3"
  },
  "language_info": {
   "codemirror_mode": {
    "name": "ipython",
    "version": 3
   },
   "file_extension": ".py",
   "mimetype": "text/x-python",
   "name": "python",
   "nbconvert_exporter": "python",
   "pygments_lexer": "ipython3",
   "version": "3.5.2"
  }
 },
 "nbformat": 4,
 "nbformat_minor": 2
}
