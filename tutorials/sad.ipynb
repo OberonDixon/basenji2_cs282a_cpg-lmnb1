{
 "cells": [
  {
   "cell_type": "markdown",
   "metadata": {},
   "source": [
    "Precursors!"
   ]
  },
  {
   "cell_type": "code",
   "execution_count": 4,
   "metadata": {},
   "outputs": [],
   "source": [
    "import os, subprocess\n",
    "\n",
    "if not os.path.isfile('data/hg19.ml.fa'):\n",
    "    subprocess.call('curl -o data/hg19.ml.fa https://storage.googleapis.com/basenji_tutorial_data/hg19.ml.fa', shell=True)\n",
    "    subprocess.call('curl -o data/hg19.ml.fa.fai https://storage.googleapis.com/basenji_tutorial_data/hg19.ml.fa.fai', shell=True)                "
   ]
  },
  {
   "cell_type": "markdown",
   "metadata": {},
   "source": [
    "Analyzing noncoding variation associated with disease is a major application of Basenji. I now offer several tools to enable that analysis. If you have a small set of variants and know what datasets are most relevant, [basenji_sat_vcf.py](https://github.com/calico/basenji/blob/master/bin/basenji_sat_vcf.py) lets you perform a saturation mutagenesis of the variant and surrounding region to see the relevant nearby motifs.\n",
    "\n",
    "If you want scores measuring the influence of those variants on all datasets,\n",
    " * [basenji_sad.py](https://github.com/calico/basenji/blob/master/bin/basenji_sad.py) computes my SNP activity difference (SAD) score--the predicted change in aligned fragments to the region.\n",
    " * [basenji_sed.py](https://github.com/calico/basenji/blob/master/bin/basenji_sed.py) computes my SNP expression difference (SED) score--the predicted change in aligned fragments to gene TSS's.\n",
    "\n",
    "Here, I'll demonstrate those two programs. You'll need\n",
    " * Trained model\n",
    " * Input file (FASTA or HDF5 with test_in/test_out)"
   ]
  },
  {
   "cell_type": "markdown",
   "metadata": {},
   "source": [
    "First, you can either train your own model in the [Train/test tutorial](https://github.com/calico/basenji/blob/master/tutorials/train_test.ipynb) or use one that I pre-trained from the models subdirectory."
   ]
  },
  {
   "cell_type": "markdown",
   "metadata": {},
   "source": [
    "As an example, we'll study a prostate cancer susceptibility allele of rs339331 that increases RFX6 expression by modulating HOXB13 chromatin binding (http://www.nature.com/ng/journal/v46/n2/full/ng.2862.html).\n",
    "\n",
    "First, we'll use [basenji_sad.py](https://github.com/calico/basenji/blob/master/bin/basenji_sad.py) to predict across the region for each allele and compute stats about the mean and max differences.\n",
    "\n",
    "The most relevant options are:\n",
    "\n",
    "| Option/Argument | Value | Note |\n",
    "|:---|:---|:---|\n",
    "| -f | data/hg19.ml.fa | Genome fasta. |\n",
    "| -g | data/human.hg19.genome | Genome assembly chromosome length to bound gene sequences. |\n",
    "| -l | 262144 | Saturation mutagenesis region in the center of the given sequence(s) |\n",
    "| -o | rfx6_sad | Outplot plot directory. |\n",
    "| --rc | | Predict forward and reverse complement versions and average the results. |\n",
    "| -t | data/gm12878_wigs.txt | Target labels. |\n",
    "| params_file | models/params_med.txt | Table of parameters to setup the model architecture and optimization parameters. |\n",
    "| model_file | models/gm12878.tf | Trained saved model prefix. |\n",
    "| vcf_file | data/rs339331.vcf | VCF file specifying variants to score. |"
   ]
  },
  {
   "cell_type": "code",
   "execution_count": 10,
   "metadata": {},
   "outputs": [
    {
     "name": "stdout",
     "output_type": "stream",
     "text": [
      "/Users/davidkelley/anaconda3/lib/python3.5/importlib/_bootstrap.py:222: RuntimeWarning: compiletime version 3.6 of module 'tensorflow.python.framework.fast_tensor_util' does not match runtime version 3.5\n",
      "  return f(*args, **kwds)\n",
      "/Users/davidkelley/anaconda3/lib/python3.5/site-packages/h5py/__init__.py:34: FutureWarning: Conversion of the second argument of issubdtype from `float` to `np.floating` is deprecated. In future, it will be treated as `np.float64 == np.dtype(float).type`.\n",
      "  from ._conv import register_converters as _register_converters\n",
      "{'batch_size': 2, 'batch_buffer': 16384, 'cnn_dense': [0, 0, 0, 0, 0, 1, 1, 1, 1, 1, 1, 0], 'adam_beta2': 0.98, 'cnn_dropout': 0.05, 'learning_rate': 0.002, 'loss': 'poisson', 'adam_beta1': 0.97, 'cnn_pool': [2, 4, 4, 4, 1, 0, 0, 0, 0, 0, 0, 0], 'num_targets': 39, 'link': 'softplus', 'cnn_dilation': [1, 1, 1, 1, 1, 2, 4, 8, 16, 32, 64, 1], 'optimizer': 'adam', 'cnn_filter_sizes': [20, 6, 6, 6, 3, 3, 3, 3, 3, 3, 3, 1], 'cnn_filters': [128, 128, 192, 256, 256, 32, 32, 32, 32, 32, 32, 384], 'target_pool': 128}\n",
      "Targets pooled by 128 to length 2048\n",
      "Convolution w/ 39 384x1 filters to final targets\n",
      "Model building time 9.600011\n",
      "2018-05-12 09:08:14.611614: I tensorflow/core/platform/cpu_feature_guard.cc:137] Your CPU supports instructions that this TensorFlow binary was not compiled to use: SSE4.2 AVX AVX2 FMA\n"
     ]
    }
   ],
   "source": [
    "! basenji_sad.py -f data/hg19.ml.fa -g data/human.hg19.genome -l 262144 -o rfx6_sad --rc -t data/gm12878_wigs.txt models/params_small.txt models/gm12878_d10/model_best.tf data/rs339331.vcf"
   ]
  },
  {
   "cell_type": "markdown",
   "metadata": {},
   "source": [
    "rfx6_sad/sad_table.txt now contains a table describing the results.\n",
    "\n",
    "The *u* in *upred* and *usad* refers to taking the mean across the sequence, whereas *x* in *xpred* and *xsad* refers to the maximum position. \n",
    "Then *sad* refers to subtracting the alt allele prediction from the ref allele, and *sar* refers to adding a pseudocount 1 and taking log2 of their ratio."
   ]
  },
  {
   "cell_type": "code",
   "execution_count": 11,
   "metadata": {},
   "outputs": [
    {
     "name": "stdout",
     "output_type": "stream",
     "text": [
      "rsid ref alt ref_pred alt_pred sad sar geo_sad ref_lpred alt_lpred lsad lsar ref_xpred alt_xpred xsad xsar target_index target_id target_label\n",
      "rs339331           T      C |  8601.44  8601.41   -0.021 -0.0000  -0.006 |  37.165  37.228   0.063  0.0024 |   4.873   4.928   0.055  0.0134 |    0 ENCSR000EJD_3_1 DNASE:GM12878\n",
      "rs339331           T      C |  3635.89  3635.82   -0.075 -0.0000  -0.038 |  14.456  14.525   0.069  0.0065 |   1.782   1.819   0.037  0.0190 |    1 ENCSR000EMT_2_1 DNASE:GM12878\n",
      "rs339331           T      C |  1438.24  1438.12   -0.112 -0.0001  -0.086 |   6.282   6.309   0.027  0.0053 |   0.929   0.952   0.023  0.0167 |    2 ENCSR000EMT_1_1 DNASE:GM12878\n",
      "rs339331           T      C |  8199.03  8199.07    0.035  0.0000   0.009 |  34.614  34.699   0.085  0.0034 |   4.189   4.241   0.051  0.0142 |    3 ENCSR000EJD_1_1 DNASE:GM12878\n",
      "rs339331           T      C |  5658.30  5658.24   -0.057 -0.0000  -0.019 |  24.260  24.286   0.026  0.0015 |   2.987   3.012   0.026  0.0093 |    4 ENCSR000EJD_2_1 DNASE:GM12878\n",
      "rs339331           T      C |  3636.46  3636.33   -0.132 -0.0001  -0.063 |  16.829  16.828  -0.001 -0.0001 |   2.141   2.166   0.025  0.0116 |    5 ENCSR057BWO_2_1 HISTONE:H3K4me3 GM12878\n",
      "rs339331           T      C |  1293.15  1292.92   -0.231 -0.0003  -0.182 |   6.500   6.509   0.009  0.0018 |   0.909   0.919   0.010  0.0078 |    6 ENCSR000AKE_1_1 HISTONE:H3K36me3 GM12878\n",
      "rs339331           T      C |   636.60   636.57   -0.030 -0.0001  -0.031 |   2.758   2.784   0.025  0.0097 |   0.436   0.450   0.014  0.0142 |    7 ENCSR000AKF_2_1 HISTONE:H3K4me1 GM12878\n",
      "rs339331           T      C |  1010.23  1010.20   -0.032 -0.0000  -0.028 |   4.601   4.612   0.011  0.0027 |   0.559   0.569   0.010  0.0095 |    8 ENCSR000AOV_2_1 HISTONE:H2AFZ GM12878\n"
     ]
    }
   ],
   "source": [
    "! head rfx6_sad/sad_table.txt"
   ]
  },
  {
   "cell_type": "markdown",
   "metadata": {},
   "source": [
    "We can sort by *xsar* to get an idea of the datasets where Basenji sees the largest difference between the two alleles."
   ]
  },
  {
   "cell_type": "code",
   "execution_count": 12,
   "metadata": {},
   "outputs": [
    {
     "name": "stdout",
     "output_type": "stream",
     "text": [
      "rsid ref alt ref_pred alt_pred sad sar geo_sad ref_lpred alt_lpred lsad lsar ref_xpred alt_xpred xsad xsar target_index target_id target_label\n",
      "rs339331           T      C |  2750.46  2750.37   -0.098 -0.0001  -0.054 |  13.524  13.504  -0.019 -0.0019 |   1.842   1.836  -0.006 -0.0033 |   21 ENCSR057BWO_1_1 HISTONE:H3K4me3 GM12878\n",
      "rs339331           T      C |   981.37   980.96   -0.413 -0.0006  -0.334 |   5.194   5.185  -0.009 -0.0022 |   1.442   1.429  -0.013 -0.0077 |   13 ENCSR000AOW_1_1 HISTONE:H3K79me2 GM12878\n",
      "rs339331           T      C |   245.40   245.35   -0.048 -0.0003  -0.059 |   0.634   0.631  -0.003 -0.0023 |   0.101   0.099  -0.002 -0.0032 |   36    CNhs12332 CAGE:B lymphoblastoid cell line: GM12878 ENCODE, biol_rep2\n",
      "rs339331           T      C |   247.11   247.06   -0.049 -0.0003  -0.060 |   0.732   0.729  -0.003 -0.0024 |   0.106   0.104  -0.002 -0.0029 |   37    CNhs12333 CAGE:B lymphoblastoid cell line: GM12878 ENCODE, biol_rep3\n"
     ]
    }
   ],
   "source": [
    "! sort -k13 -g rfx6_sad/sad_table.txt | head -n 5"
   ]
  },
  {
   "cell_type": "code",
   "execution_count": 13,
   "metadata": {},
   "outputs": [
    {
     "name": "stdout",
     "output_type": "stream",
     "text": [
      "rs339331           T      C |  8199.03  8199.07    0.035  0.0000   0.009 |  34.614  34.699   0.085  0.0034 |   4.189   4.241   0.051  0.0142 |    3 ENCSR000EJD_1_1 DNASE:GM12878\n",
      "rs339331           T      C |  3635.89  3635.82   -0.075 -0.0000  -0.038 |  14.456  14.525   0.069  0.0065 |   1.782   1.819   0.037  0.0190 |    1 ENCSR000EMT_2_1 DNASE:GM12878\n",
      "rs339331           T      C |  8601.44  8601.41   -0.021 -0.0000  -0.006 |  37.165  37.228   0.063  0.0024 |   4.873   4.928   0.055  0.0134 |    0 ENCSR000EJD_3_1 DNASE:GM12878\n",
      "rs339331           T      C |  1102.09  1102.15    0.063  0.0001   0.057 |   4.227   4.277   0.050  0.0138 |   0.620   0.650   0.029  0.0257 |   24 ENCSR000DRX_2_1 HISTONE:H3K27me3 GM12878\n",
      "rs339331           T      C |   966.69   966.57   -0.115 -0.0002  -0.104 |   3.976   4.020   0.044  0.0127 |   0.627   0.658   0.031  0.0273 |   12 ENCSR000DRW_1_1 HISTONE:H3K36me3 GM12878\n"
     ]
    }
   ],
   "source": [
    "! sort -k13 -gr rfx6_sad/sad_table.txt | head -n 5"
   ]
  },
  {
   "cell_type": "markdown",
   "metadata": {},
   "source": [
    "These are inconclusive small effect sizes, not surprising given that we're only studying GM12878. The proper cell types would shed more light."
   ]
  },
  {
   "cell_type": "markdown",
   "metadata": {},
   "source": [
    "Alternatively, we can directly query the predictions at gene TSS's using [basenji_sed.py](https://github.com/calico/basenji/blob/master/bin/basenji_sed.py).\n",
    "\n",
    "[basenji_sed.py](https://github.com/calico/basenji/blob/master/bin/basenji_sed.py) takes as input the gene sequence HDF5 format described in [genes.ipynb](https://github.com/calico/basenji/blob/master/tutorials/genes.ipynb). There's no harm to providing an HDF5 that describes all genes, but it's too big to easily move around so I constructed one that focuses on RFX6.\n",
    "\n",
    "The most relevant options are:\n",
    "\n",
    "| Option/Argument | Value | Note |\n",
    "|:---|:---|:---|\n",
    "| -g | data/human.hg19.genome | Genome assembly chromosome length to bound gene sequences. |\n",
    "| -o | rfx6_sed | Outplot plot directory. |\n",
    "| --rc | | Predict forward and reverse complement versions and average the results. |\n",
    "| -w | 128 | Sequence bin width at which predictions are made. |\n",
    "| params_file | models/params_med.txt | Table of parameters to setup the model architecture and optimization parameters. |\n",
    "| model_file | models/gm12878.tf | Trained saved model prefix. |\n",
    "| genes_hdf5_file | data/rfx6.h5 | HDF5 file specifying gene sequences to query. |\n",
    "| vcf_file | data/rs339331.vcf | VCF file specifying variants to score. |"
   ]
  },
  {
   "cell_type": "markdown",
   "metadata": {},
   "source": [
    "Before running [basenji_sed.py](https://github.com/calico/basenji/blob/master/bin/basenji_sed.py), we need to generate an input data file for RFX6. Using an included GTF file that contains only RFX6, one can use [basenji_hdf5_genes.py]((https://github.com/calico/basenji/blob/master/bin/basenji_hdf5_genes.py) to create the required format."
   ]
  },
  {
   "cell_type": "code",
   "execution_count": 17,
   "metadata": {},
   "outputs": [
    {
     "name": "stdout",
     "output_type": "stream",
     "text": [
      "/Users/davidkelley/anaconda3/lib/python3.5/site-packages/h5py/__init__.py:34: FutureWarning: Conversion of the second argument of issubdtype from `float` to `np.floating` is deprecated. In future, it will be treated as `np.float64 == np.dtype(float).type`.\n",
      "  from ._conv import register_converters as _register_converters\n"
     ]
    }
   ],
   "source": [
    "! basenji_hdf5_genes.py -g data/human.hg19.genome -l 262144 -c 0.333 -w 128 data/hg19.ml.fa data/rfx6.gtf data/rfx6.h5"
   ]
  },
  {
   "cell_type": "code",
   "execution_count": 29,
   "metadata": {},
   "outputs": [
    {
     "name": "stdout",
     "output_type": "stream",
     "text": [
      "/Users/davidkelley/anaconda3/lib/python3.5/site-packages/h5py/__init__.py:34: FutureWarning: Conversion of the second argument of issubdtype from `float` to `np.floating` is deprecated. In future, it will be treated as `np.float64 == np.dtype(float).type`.\n",
      "  from ._conv import register_converters as _register_converters\n",
      "/Users/davidkelley/anaconda3/lib/python3.5/importlib/_bootstrap.py:222: RuntimeWarning: compiletime version 3.6 of module 'tensorflow.python.framework.fast_tensor_util' does not match runtime version 3.5\n",
      "  return f(*args, **kwds)\n",
      "Intersecting gene sequences with SNPs...1 sequences w/ SNPs\n",
      "{'num_targets': 39, 'cnn_filter_sizes': [20, 6, 6, 6, 3, 3, 3, 3, 3, 3, 3, 1], 'learning_rate': 0.002, 'loss': 'poisson', 'batch_buffer': 16384, 'batch_size': 2, 'link': 'softplus', 'cnn_filters': [128, 128, 192, 256, 256, 32, 32, 32, 32, 32, 32, 384], 'adam_beta1': 0.97, 'adam_beta2': 0.98, 'optimizer': 'adam', 'cnn_dropout': 0.05, 'cnn_dense': [0, 0, 0, 0, 0, 1, 1, 1, 1, 1, 1, 0], 'cnn_dilation': [1, 1, 1, 1, 1, 2, 4, 8, 16, 32, 64, 1], 'target_pool': 128, 'cnn_pool': [2, 4, 4, 4, 1, 0, 0, 0, 0, 0, 0, 0]}\n",
      "Targets pooled by 128 to length 2048\n",
      "Convolution w/ 39 384x1 filters to final targets\n",
      "2018-05-12 11:28:05.089572: I tensorflow/core/platform/cpu_feature_guard.cc:137] Your CPU supports instructions that this TensorFlow binary was not compiled to use: SSE4.2 AVX AVX2 FMA\n",
      "chr6:117071103-117333247 2 TSSs\n"
     ]
    }
   ],
   "source": [
    "! basenji_sed.py -g data/human.hg19.genome -o rfx6_sed --rc models/params_small.txt models/gm12878_d10/model_best.tf data/rfx6.h5 data/rs339331.vcf"
   ]
  },
  {
   "cell_type": "code",
   "execution_count": 30,
   "metadata": {},
   "outputs": [
    {
     "name": "stdout",
     "output_type": "stream",
     "text": [
      "rsid ref alt gene tss_dist ref_pred alt_pred sed ser target_index target_id target_label\n",
      "rs339331      T     C ENSG00000185002.9_1  4100  0.7612  0.7559 -0.0054 -0.0088   15          t15 \n",
      "rs339331      T     C ENSG00000185002.9_1  4100  1.5000  1.4902 -0.0098 -0.0088   31          t31 \n",
      "rs339331      T     C ENSG00000185002.9_1  4100  1.6543  1.6436 -0.0107 -0.0088   13          t13 \n",
      "rs339331      T     C ENSG00000185002.9_1  4100  1.0771  1.0723 -0.0049 -0.0059    6           t6 \n"
     ]
    }
   ],
   "source": [
    "! sort -k9 -g rfx6_sed/sed_gene.txt | head -n 5"
   ]
  },
  {
   "cell_type": "code",
   "execution_count": 31,
   "metadata": {},
   "outputs": [
    {
     "name": "stdout",
     "output_type": "stream",
     "text": [
      "rs339331      T     C ENSG00000185002.9_1  4100  1.1816  1.1836  0.0020  0.0022   14          t14 \n",
      "rs339331      T     C ENSG00000185002.9_1  4100  7.9102  7.9141  0.0039  0.0020    3           t3 \n",
      "rs339331      T     C ENSG00000185002.9_1  4100  5.9766  5.9805  0.0039  0.0000    4           t4 \n",
      "rs339331      T     C ENSG00000185002.9_1  4100  1.9531  1.9521 -0.0010  0.0000   28          t28 \n",
      "rs339331      T     C ENSG00000185002.9_1  4100  3.7969  3.7949 -0.0020 -0.0010   38          t38 \n"
     ]
    }
   ],
   "source": [
    "! sort -k9 -gr rfx6_sed/sed_gene.txt | head -n 5"
   ]
  }
 ],
 "metadata": {
  "kernelspec": {
   "display_name": "Python [default]",
   "language": "python",
   "name": "python3"
  },
  "language_info": {
   "codemirror_mode": {
    "name": "ipython",
    "version": 3
   },
   "file_extension": ".py",
   "mimetype": "text/x-python",
   "name": "python",
   "nbconvert_exporter": "python",
   "pygments_lexer": "ipython3",
   "version": "3.5.2"
  }
 },
 "nbformat": 4,
 "nbformat_minor": 2
}
