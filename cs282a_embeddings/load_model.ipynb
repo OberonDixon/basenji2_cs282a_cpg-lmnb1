{
 "cells": [
  {
   "cell_type": "code",
   "execution_count": 1,
   "id": "c40b7a65",
   "metadata": {},
   "outputs": [
    {
     "name": "stderr",
     "output_type": "stream",
     "text": [
      "2023-11-16 14:18:24.453502: I tensorflow/core/platform/cpu_feature_guard.cc:193] This TensorFlow binary is optimized with oneAPI Deep Neural Network Library (oneDNN) to use the following CPU instructions in performance-critical operations:  AVX2 FMA\n",
      "To enable them in other operations, rebuild TensorFlow with the appropriate compiler flags.\n",
      "2023-11-16 14:18:28.718309: W tensorflow/compiler/xla/stream_executor/platform/default/dso_loader.cc:64] Could not load dynamic library 'libnvinfer.so.7'; dlerror: libnvinfer.so.7: cannot open shared object file: No such file or directory; LD_LIBRARY_PATH: /global/software/sl-7.x86_64/modules/langs/cuda/11.2/lib64:/global/home/groups/consultsw/sl-7.x86_64/modules/cudnn/7.0.5-cuda9.0/lib64:/global/software/sl-7.x86_64/modules/langs/python/3.7/lib\n",
      "2023-11-16 14:18:28.718509: W tensorflow/compiler/xla/stream_executor/platform/default/dso_loader.cc:64] Could not load dynamic library 'libnvinfer_plugin.so.7'; dlerror: libnvinfer_plugin.so.7: cannot open shared object file: No such file or directory; LD_LIBRARY_PATH: /global/software/sl-7.x86_64/modules/langs/cuda/11.2/lib64:/global/home/groups/consultsw/sl-7.x86_64/modules/cudnn/7.0.5-cuda9.0/lib64:/global/software/sl-7.x86_64/modules/langs/python/3.7/lib\n",
      "2023-11-16 14:18:28.718532: W tensorflow/compiler/tf2tensorrt/utils/py_utils.cc:38] TF-TRT Warning: Cannot dlopen some TensorRT libraries. If you would like to use Nvidia GPU with TensorRT, please make sure the missing libraries mentioned above are installed properly.\n",
      "usage: ipykernel_launcher.py [-h] [-c CHROMOSOME]\n",
      "ipykernel_launcher.py: error: unrecognized arguments: -f /global/home/users/dixonluinenburg/.local/share/jupyter/runtime/kernel-4599043e-1810-4e79-9a72-a84ccd7ce113.json\n"
     ]
    },
    {
     "ename": "SystemExit",
     "evalue": "2",
     "output_type": "error",
     "traceback": [
      "An exception has occurred, use %tb to see the full traceback.\n",
      "\u001b[0;31mSystemExit\u001b[0m\u001b[0;31m:\u001b[0m 2\n"
     ]
    },
    {
     "name": "stderr",
     "output_type": "stream",
     "text": [
      "/clusterfs/nilah/oberon/python/lib/python3.9/site-packages/IPython/core/interactiveshell.py:3405: UserWarning: To exit: use 'exit', 'quit', or Ctrl-D.\n",
      "  warn(\"To exit: use 'exit', 'quit', or Ctrl-D.\", stacklevel=1)\n"
     ]
    }
   ],
   "source": [
    "#Copied from /bin/basenji_sat_bed.py\n",
    "from __future__ import print_function\n",
    "\n",
    "from optparse import OptionParser\n",
    "\n",
    "import gc\n",
    "import json\n",
    "import os\n",
    "#os.environ['LD_LIBRARY_PATH'] = '/clusterfs/nilah/oberon/python/lib:/global/software/sl-7.x86_64/modules/langs/python/3.7/lib' #+ os.environ.get('LD_LIBRARY_PATH', '')\n",
    "import pdb\n",
    "import pickle\n",
    "from queue import Queue\n",
    "import random\n",
    "import sys\n",
    "from threading import Thread\n",
    "from collections import defaultdict\n",
    "import csv\n",
    "import argparse\n",
    "import os\n",
    "\n",
    "import h5py\n",
    "import numpy as np\n",
    "import pandas as pd\n",
    "import pysam\n",
    "import tensorflow as tf\n",
    "from tqdm import tqdm\n",
    "\n",
    "if tf.__version__[0] == '1':\n",
    "  tf.compat.v1.enable_eager_execution()\n",
    "\n",
    "from basenji import bed\n",
    "from basenji import dna_io\n",
    "from basenji import seqnn\n",
    "from basenji import stream\n",
    "\n",
    "#I added these\n",
    "import pysam\n",
    "import pyBigWig\n",
    "import matplotlib.pyplot as plt\n",
    "from scipy import signal\n",
    "from Bio import motifs\n",
    "from Bio.Seq import Seq\n",
    "import itertools\n",
    "from pyliftover import LiftOver\n",
    "import pybedtools\n",
    "import subprocess\n",
    "from datetime import datetime as dt\n",
    "import seaborn as sns\n",
    "from pybedtools import BedTool\n",
    "import pyBigWig\n",
    "\n",
    "parser = argparse.ArgumentParser(description=\"This script runs through all the gene TSS's annotated in hg38 on the specified chromosome and provides their sequence, centered at the TSS.\")\n",
    "\n",
    "parser.add_argument(\"-c\",\"--chromosome\",help=\"chromosome to run\",type=str)\n",
    "\n",
    "args = parser.parse_args()\n",
    "\n",
    "chromosome = args.chromosome\n",
    "\n",
    "\n",
    "################################################################\n",
    "# Specify filepaths\n",
    "################################################################\n",
    "targets_path = '/clusterfs/nilah/oberon/basenji/manuscripts/cross2020/targets_human.txt'\n",
    "weights_path = '/clusterfs/nilah/oberon/basenji/manuscripts/cross2020/model_human.h5'\n",
    "architecture_path = '/clusterfs/nilah/oberon/basenji/manuscripts/cross2020/params_human.json'\n",
    "\n",
    "hg38_genome_path = '/clusterfs/nilah/ayesha/basenji/baselines/gm12878/data/hg38.fa'\n",
    "\n",
    "#################################################################\n",
    "# Load neural network\n",
    "#################################################################\n",
    "with open(architecture_path) as arch_open:\n",
    "    arch = json.load(arch_open)\n",
    "params_model = arch['model']\n",
    "targets_df = pd.read_table(targets_path,index_col=0)\n",
    "target_slice = targets_df.index\n",
    "seqnn_model = seqnn.SeqNN(params_model)\n",
    "seqnn_model.restore(weights_path)\n",
    "seqnn_model.build_slice(target_slice)"
   ]
  },
  {
   "cell_type": "code",
   "execution_count": null,
   "id": "f6dc343c",
   "metadata": {},
   "outputs": [],
   "source": []
  }
 ],
 "metadata": {
  "kernelspec": {
   "display_name": "basenji",
   "language": "python",
   "name": "basenji"
  },
  "language_info": {
   "codemirror_mode": {
    "name": "ipython",
    "version": 3
   },
   "file_extension": ".py",
   "mimetype": "text/x-python",
   "name": "python",
   "nbconvert_exporter": "python",
   "pygments_lexer": "ipython3",
   "version": "3.9.0"
  }
 },
 "nbformat": 4,
 "nbformat_minor": 5
}
