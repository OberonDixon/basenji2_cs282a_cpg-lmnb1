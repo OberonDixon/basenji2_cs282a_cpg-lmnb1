{
 "cells": [
  {
   "cell_type": "code",
   "execution_count": 5,
   "id": "0ca7041f",
   "metadata": {},
   "outputs": [],
   "source": [
    "import pysam\n",
    "from basenji.dna_io import dna_1hot\n",
    "from tqdm import tqdm"
   ]
  },
  {
   "cell_type": "code",
   "execution_count": 3,
   "id": "8efc7884",
   "metadata": {},
   "outputs": [],
   "source": [
    "hg38_genome_path = '/clusterfs/nilah/ayesha/basenji/baselines/gm12878/data/hg38.fa'\n",
    "sequences_bed_path = '/clusterfs/nilah/oberon/datasets/basenji2_human_training/sequences.bed'"
   ]
  },
  {
   "cell_type": "code",
   "execution_count": 11,
   "id": "5dbaf522",
   "metadata": {},
   "outputs": [
    {
     "name": "stderr",
     "output_type": "stream",
     "text": [
      "Processing train sequences:  59%|█████▊    | 22370/38171 [17:43<12:31, 21.03it/s]\n"
     ]
    },
    {
     "ename": "KeyboardInterrupt",
     "evalue": "",
     "output_type": "error",
     "traceback": [
      "\u001b[0;31m---------------------------------------------------------------------------\u001b[0m",
      "\u001b[0;31mKeyboardInterrupt\u001b[0m                         Traceback (most recent call last)",
      "Input \u001b[0;32mIn [11]\u001b[0m, in \u001b[0;36m<cell line: 2>\u001b[0;34m()\u001b[0m\n\u001b[1;32m     10\u001b[0m progress_bar\u001b[38;5;241m.\u001b[39mset_description(\u001b[38;5;124mf\u001b[39m\u001b[38;5;124m\"\u001b[39m\u001b[38;5;124mProcessing \u001b[39m\u001b[38;5;132;01m{\u001b[39;00mseq_type\u001b[38;5;132;01m}\u001b[39;00m\u001b[38;5;124m sequences\u001b[39m\u001b[38;5;124m\"\u001b[39m)  \u001b[38;5;66;03m# Update the progress bar description\u001b[39;00m\n\u001b[1;32m     11\u001b[0m seq \u001b[38;5;241m=\u001b[39m hg38_fasta\u001b[38;5;241m.\u001b[39mfetch(chrom,start,end)\n\u001b[0;32m---> 12\u001b[0m onehot_seq \u001b[38;5;241m=\u001b[39m \u001b[43mdna_1hot\u001b[49m\u001b[43m(\u001b[49m\u001b[43mseq\u001b[49m\u001b[43m)\u001b[49m\n",
      "File \u001b[0;32m/clusterfs/nilah/oberon/basenji/basenji/dna_io.py:65\u001b[0m, in \u001b[0;36mdna_1hot\u001b[0;34m(seq, seq_len, n_uniform, n_sample)\u001b[0m\n\u001b[1;32m     63\u001b[0m nt \u001b[38;5;241m=\u001b[39m seq[i \u001b[38;5;241m-\u001b[39m seq_start]\n\u001b[1;32m     64\u001b[0m \u001b[38;5;28;01mif\u001b[39;00m nt \u001b[38;5;241m==\u001b[39m \u001b[38;5;124m'\u001b[39m\u001b[38;5;124mA\u001b[39m\u001b[38;5;124m'\u001b[39m:\n\u001b[0;32m---> 65\u001b[0m   seq_code[i, \u001b[38;5;241m0\u001b[39m] \u001b[38;5;241m=\u001b[39m \u001b[38;5;241m1\u001b[39m\n\u001b[1;32m     66\u001b[0m \u001b[38;5;28;01melif\u001b[39;00m nt \u001b[38;5;241m==\u001b[39m \u001b[38;5;124m'\u001b[39m\u001b[38;5;124mC\u001b[39m\u001b[38;5;124m'\u001b[39m:\n\u001b[1;32m     67\u001b[0m   seq_code[i, \u001b[38;5;241m1\u001b[39m] \u001b[38;5;241m=\u001b[39m \u001b[38;5;241m1\u001b[39m\n",
      "\u001b[0;31mKeyboardInterrupt\u001b[0m: "
     ]
    }
   ],
   "source": [
    "hg38_fasta = pysam.FastaFile(hg38_genome_path)\n",
    "with open(sequences_bed_path,'r') as bed_file:\n",
    "    progress_bar = tqdm(enumerate(bed_file), total=38171)\n",
    "    for index,bed_line in progress_bar:\n",
    "        location_fields = bed_line.split('\\t')\n",
    "        chrom = str(location_fields[0])\n",
    "        start = int(location_fields[1])\n",
    "        end = int(location_fields[2])\n",
    "        seq_type = location_fields[3].strip()\n",
    "        progress_bar.set_description(f\"Processing {seq_type} sequences\")  # Update the progress bar description\n",
    "        seq = hg38_fasta.fetch(chrom,start,end)\n",
    "        onehot_seq = dna_1hot(seq)"
   ]
  },
  {
   "cell_type": "code",
   "execution_count": null,
   "id": "659c9338",
   "metadata": {},
   "outputs": [],
   "source": []
  }
 ],
 "metadata": {
  "kernelspec": {
   "display_name": "basenji",
   "language": "python",
   "name": "basenji"
  },
  "language_info": {
   "codemirror_mode": {
    "name": "ipython",
    "version": 3
   },
   "file_extension": ".py",
   "mimetype": "text/x-python",
   "name": "python",
   "nbconvert_exporter": "python",
   "pygments_lexer": "ipython3",
   "version": "3.9.0"
  }
 },
 "nbformat": 4,
 "nbformat_minor": 5
}
