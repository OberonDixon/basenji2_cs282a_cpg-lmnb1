{
 "cells": [
  {
   "cell_type": "code",
   "execution_count": 1,
   "metadata": {},
   "outputs": [
    {
     "name": "stderr",
     "output_type": "stream",
     "text": [
      "2022-07-09 11:39:34.102280: W tensorflow/stream_executor/platform/default/dso_loader.cc:64] Could not load dynamic library 'libcudart.so.11.0'; dlerror: libcudart.so.11.0: cannot open shared object file: No such file or directory; LD_LIBRARY_PATH: /home/drk/code/torch_1-2018/install/lib:/usr/local/cuda-11.2/targets/x86_64-linux/lib:\n",
      "2022-07-09 11:39:34.102336: I tensorflow/stream_executor/cuda/cudart_stub.cc:29] Ignore above cudart dlerror if you do not have a GPU set up on your machine.\n"
     ]
    }
   ],
   "source": [
    "import glob\n",
    "import gzip\n",
    "import json\n",
    "from natsort import natsorted\n",
    "import os\n",
    "import shutil\n",
    "\n",
    "import matplotlib.pyplot as plt\n",
    "%matplotlib inline\n",
    "import numpy as np\n",
    "import pandas as pd\n",
    "import pysam\n",
    "import seaborn as sns\n",
    "import tensorflow as tf\n",
    "\n",
    "import pygene\n",
    "from basenji import dna_io\n",
    "from basenji import metrics\n",
    "from basenji import trainer"
   ]
  },
  {
   "cell_type": "code",
   "execution_count": 2,
   "metadata": {},
   "outputs": [],
   "source": [
    "np.random.seed(44)"
   ]
  },
  {
   "cell_type": "markdown",
   "metadata": {},
   "source": [
    "## Precursors"
   ]
  },
  {
   "cell_type": "code",
   "execution_count": 3,
   "metadata": {},
   "outputs": [],
   "source": [
    "# human\n",
    "stability_file = '~vagar/RNAbinding/forPaper/Fig4/binnedgenes.txt'\n",
    "vikram_gtf_file = '/home/vagar/RNAbinding/forPaper/datasets/human/Homo_sapiens.GRCh38.83.chosenTranscript.gtf'\n",
    "# human_gtf_file = '/home/vagar/RNAbinding/forPaper/datasets/human/Homo_sapiens.GRCh38.83.chosenTranscript.gtf'\n",
    "genome_fasta_file = '%s/assembly/ensembl/Homo_sapiens.GRCh38.dna.primary_assembly.fa' % os.environ['HG38']"
   ]
  },
  {
   "cell_type": "code",
   "execution_count": 4,
   "metadata": {},
   "outputs": [],
   "source": [
    "# # mouse\n",
    "# stability_file = 'mouse_stability.tsv'\n",
    "# vikram_gtf_file = '/home/vagar/RNAbinding/forPaper/datasets/mouse/Mus_musculus.GRCm3.90.chosenTranscript.gtf.gz'\n",
    "# genome_fasta_file = '%s/assembly/ensembl/Mus_musculus.GRCm38.dna.primary_assembly.fa' % os.environ['MM10']"
   ]
  },
  {
   "cell_type": "code",
   "execution_count": 5,
   "metadata": {},
   "outputs": [],
   "source": [
    "def trim_dot(gene_id):\n",
    "    dot_i = gene_id.find('.')\n",
    "    if dot_i != -1:\n",
    "        gene_id = gene_id[:dot_i]\n",
    "    return gene_id"
   ]
  },
  {
   "cell_type": "code",
   "execution_count": 6,
   "metadata": {},
   "outputs": [],
   "source": [
    "def read_gene_fasta(fasta_file, trim_geneid=False):\n",
    "    if fasta_file[-3:] == '.gz':\n",
    "        fasta_open = gzip.open(fasta_file, 'rt')\n",
    "    else:\n",
    "        fasta_open = open(fasta_file, 'r')\n",
    "        \n",
    "    gene_seq = {}\n",
    "    for line in fasta_open:\n",
    "        if line[0] == '>':\n",
    "            gene = line[1:].rstrip()\n",
    "            if trim_geneid:\n",
    "                gene = trim_dot(gene)\n",
    "            gene_seq[gene] = ''\n",
    "        else:\n",
    "            gene_seq[gene] += line.rstrip()\n",
    "            \n",
    "    fasta_open.close()\n",
    "        \n",
    "    return gene_seq"
   ]
  },
  {
   "cell_type": "code",
   "execution_count": 7,
   "metadata": {},
   "outputs": [],
   "source": [
    "def rna_1hot_splice(transcript, genome_open):\n",
    "    \"\"\"Extract RNA nucleotides and add splice and coding frame channels.\n",
    "        Consider strand, but do not yet reverse complement, because its\n",
    "        easier to handle variant substitution.\"\"\"\n",
    "\n",
    "    # exons RNA\n",
    "    tx_exons = transcript.fasta_exons(genome_open, stranded=False)\n",
    "    seq_len = len(tx_exons)\n",
    "\n",
    "    # CDS RNA\n",
    "    tx_cds = transcript.fasta_cds(genome_open, stranded=False)\n",
    "    if len(tx_cds) % 3 == 0:\n",
    "        valid_coding = True\n",
    "    else:\n",
    "        # print('WARNING: %d mod 3 == %d length:' % (len(tx_cds),len(tx_cds)%3), transcript)\n",
    "        valid_coding = False\n",
    "    cds_start = tx_exons.find(tx_cds)\n",
    "    if cds_start == -1:\n",
    "        print(transcript)\n",
    "    cds_end = cds_start + len(tx_cds)\n",
    "\n",
    "    # add frame channel\n",
    "    frame_channel = np.zeros((seq_len,1))\n",
    "    if valid_coding:\n",
    "        aa_len = (cds_end - cds_start) // 3\n",
    "        if transcript.strand == '+':\n",
    "            frame_channel[cds_start:cds_end,0] = np.tile([1,0,0], aa_len)\n",
    "        else:\n",
    "            frame_channel[cds_start:cds_end,0] = np.tile([0,0,1], aa_len)\n",
    "\n",
    "    # splice track\n",
    "    splice_channel = np.zeros((seq_len,1))\n",
    "    ti = 0\n",
    "    exon_lens = [ex.end-ex.start for ex in transcript.exons]\n",
    "    for el in exon_lens:\n",
    "        if transcript.strand == '+':\n",
    "            ti += el\n",
    "            splice_channel[ti-1,0] = 1\n",
    "        else:\n",
    "            splice_channel[ti,0] = 1\n",
    "            ti += el\n",
    "\n",
    "    # 1 hot encode\n",
    "    tx_seq1 = dna_io.dna_1hot(tx_exons, n_sample=True)\n",
    "    tx_seq1 = np.concatenate([tx_seq1, frame_channel, splice_channel], axis=-1)\n",
    "    \n",
    "    # reverse complement\n",
    "    if transcript.strand == '-':\n",
    "        tx_seq1 = dna_io.hot1_rc(tx_seq1)\n",
    "\n",
    "    return tx_seq1"
   ]
  },
  {
   "cell_type": "code",
   "execution_count": 8,
   "metadata": {},
   "outputs": [],
   "source": [
    "def set_rna_length(tx_seq1, length):\n",
    "    \"\"\"Set RNA length to specific value by padding or trimming.\"\"\"\n",
    "    seq_len, seq_depth = tx_seq1.shape\n",
    "\n",
    "    if seq_len < length:\n",
    "        # pad\n",
    "        pad_len = length - seq_len\n",
    "        pad_seq1 = np.zeros((pad_len,seq_depth))\n",
    "        tx_seq1 = np.concatenate([tx_seq1,pad_seq1], axis=0)\n",
    "\n",
    "    elif seq_len > length:\n",
    "        # trim 5'\n",
    "        tx_seq1 = tx_seq1[-length:]\n",
    "\n",
    "    return tx_seq1"
   ]
  },
  {
   "cell_type": "markdown",
   "metadata": {},
   "source": [
    "## Read stability measurements"
   ]
  },
  {
   "cell_type": "code",
   "execution_count": null,
   "metadata": {},
   "outputs": [],
   "source": [
    "# read sample table\n",
    "stability_df = pd.read_csv(stability_file, sep='\\t')\n",
    "stability_df.columns = ['Fold','Gene','Stability']\n",
    "stability_df"
   ]
  },
  {
   "cell_type": "code",
   "execution_count": 10,
   "metadata": {},
   "outputs": [],
   "source": [
    "genes_gtf_file = 'genes.gtf'\n",
    "genes_gtf_out = open(genes_gtf_file, 'w')\n",
    "    \n",
    "for line in open(vikram_gtf_file):\n",
    "    a = line.rstrip().split('\\t')\n",
    "    tx_id, gene_id = a[-1].split(':')\n",
    "    a[-1] = 'gene_id \"%s\"; transcript_id \"%s\"; saluki_score \"1.0\";' % (gene_id, tx_id)\n",
    "    print('\\t'.join(a), file=genes_gtf_out)\n",
    "        \n",
    "genes_gtf_out.close()"
   ]
  },
  {
   "cell_type": "code",
   "execution_count": 12,
   "metadata": {},
   "outputs": [
    {
     "name": "stdout",
     "output_type": "stream",
     "text": [
      "1 + gene_id \"ENSG00000122484\"; transcript_id \"ENST00000610020\"; saluki_score \"1.0\";  [92298965-92299146],[92300194-92300239],[92301476-92301590],[92303977-92304075],[92304284-92304349],[92307188-92307276],[92320599-92320634],[92323445-92324375],[92333391-92333473],[92336347-92336427],[92345846-92345914],[92380724-92380873],[92387011-92402056]\n",
      "3 + gene_id \"ENSG00000168314\"; transcript_id \"ENST00000311042\"; saluki_score \"1.0\";  [39467680-39467740],[39480040-39480123],[39502066-39502275],[39502463-39502876],[39513383-39516001]\n",
      "3 + gene_id \"ENSG00000185008\"; transcript_id \"ENST00000332191\"; saluki_score \"1.0\";  [77040730-77040846],[77098014-77098340],[77477414-77477571],[77481099-77481219],[77493244-77493382],[77522775-77522902],[77546338-77546462],[77550818-77550989],[77557944-77558149],[77562651-77562732],[77563167-77563329],[77564954-77565120],[77568313-77568434],[77574499-77574730],[77577490-77577614],[77579947-77580118],[77588751-77588933],[77595142-77595184],[77596623-77596750],[77602210-77602491],[77607798-77607954],[77617513-77617773],[77622227-77622432],[77632474-77632656],[77634870-77635043],[77644704-77644904],[77646054-77647116]\n",
      "3 - gene_id \"ENSG00000174963\"; transcript_id \"ENST00000525172\"; saluki_score \"1.0\";  [147386048-147388859],[147390931-147391246],[147395852-147396469],[147402728-147402812],[147403964-147404284]\n",
      "4 + gene_id \"ENSG00000126545\"; transcript_id \"ENST00000246891\"; saluki_score \"1.0\";  [69931081-69931117],[69932544-69932606],[69934212-69934244],[69934690-69934710],[69935926-69935949],[69936456-69936479],[69936566-69936607],[69937121-69937144],[69937800-69937823],[69939176-69939208],[69940021-69940044],[69941019-69941060],[69942046-69942063],[69942536-69942577],[69944850-69945004],[69946196-69946574]\n",
      "4 - gene_id \"ENSG00000164096\"; transcript_id \"ENST00000399075\"; saluki_score \"1.0\";  [119296419-119298779],[119300336-119300733],[119304245-119304445]\n",
      "4 + gene_id \"ENSG00000186352\"; transcript_id \"ENST00000335174\"; saluki_score \"1.0\";  [185396484-185396950],[185397150-185397302],[185398937-185399028],[185399570-185399773],[185400017-185400241]\n",
      "7 - gene_id \"ENSG00000048405\"; transcript_id \"ENST00000393313\"; saluki_score \"1.0\";  [127370043-127371814],[127373342-127375034],[127377186-127377329],[127386060-127386155],[127391497-127391615],[127392158-127392691]\n",
      "X + gene_id \"ENSG00000122824\"; transcript_id \"ENST00000376006\"; saluki_score \"1.0\";  [51332231-51332367],[51332883-51333459],[51336239-51337525]\n",
      "X - gene_id \"ENSG00000196368\"; transcript_id \"ENST00000375992\"; saluki_score \"1.0\";  [51490011-51491749],[51495951-51496596]\n",
      "8 + gene_id \"ENSG00000175445\"; transcript_id \"ENST00000311322\"; saluki_score \"1.0\";  [19938971-19939528],[19948180-19948340],[19951769-19951948],[19953310-19953421],[19954120-19954353],[19955841-19956083],[19959260-19959380],[19960901-19961083],[19962115-19962219],[19965310-19967258]\n",
      "8 + gene_id \"ENSG00000069206\"; transcript_id \"ENST00000380789\"; saluki_score \"1.0\";  [24441084-24441160],[24442473-24442576],[24447186-24447262],[24463882-24463960],[24465699-24465775],[24466799-24466988],[24468767-24468820],[24476433-24476504],[24482142-24482311],[24485277-24485361],[24487187-24487317],[24489159-24489333],[24490799-24490888],[24491903-24492098],[24492495-24492597],[24493043-24493229],[24499236-24499316],[24500178-24500256],[24500790-24500895],[24501477-24501576],[24506091-24506156],[24507480-24507535],[24508546-24509548]\n",
      "8 + gene_id \"ENSG00000104435\"; transcript_id \"ENST00000518111\"; saluki_score \"1.0\";  [79611152-79611214],[79636802-79636897],[79641378-79641550],[79654871-79655062],[79663580-79663661],[79664815-79665007]\n",
      "9 - gene_id \"ENSG00000122756\"; transcript_id \"ENST00000378980\"; saluki_score \"1.0\";  [34551432-34552071],[34552161-34552329],[34552674-34552854],[34556255-34556418],[34557526-34557692],[34557867-34557984],[34564599-34564832],[34568897-34568981],[34581095-34581205],[34589555-34589737]\n",
      "10 - gene_id \"ENSG00000203791\"; transcript_id \"ENST00000368836\"; saluki_score \"1.0\";  [124759954-124760503],[124762300-124762558],[124765392-124765608],[124774675-124774782],[124789043-124789157],[124790273-124790338],[124791724-124791870]\n",
      "13 - gene_id \"ENSG00000165480\"; transcript_id \"ENST00000314759\"; saluki_score \"1.0\";  [21153595-21155150],[21155693-21155811],[21157922-21158125],[21159902-21159987],[21161790-21161875],[21167988-21168399],[21172339-21172504],[21172620-21172681],[21176375-21176602]\n",
      "17 + gene_id \"ENSG00000108424\"; transcript_id \"ENST00000290158\"; saluki_score \"1.0\";  [47649838-47650284],[47650386-47650444],[47652694-47652876],[47656860-47657060],[47658508-47658660],[47661119-47661178],[47663089-47663178],[47664159-47664269],[47665057-47665158],[47668186-47668410],[47669678-47669869],[47670702-47670832],[47673018-47673165],[47673490-47673561],[47674638-47674782],[47676409-47676491],[47677020-47677127],[47678046-47678189],[47678308-47678413],[47680020-47680134],[47680508-47680669],[47682404-47685505]\n",
      "20 + gene_id \"ENSG00000254806\"; transcript_id \"ENST00000458187\"; saluki_score \"1.0\";  [45363502-45363693],[45365619-45365686],[45399690-45399751],[45408460-45408606],[45408801-45408938],[45409932-45409997]\n",
      "19 - gene_id \"ENSG00000196605\"; transcript_id \"ENST00000588267\"; saluki_score \"1.0\";  [9752140-9752440],[9758059-9758764],[9762082-9762165],[9763282-9763461],[9764810-9765035],[9768289-9768734]\n",
      "19 + gene_id \"ENSG00000188223\"; transcript_id \"ENST00000591613\"; saluki_score \"1.0\";  [35745678-35745700],[35745835-35745991],[35746419-35746523],[35752176-35752251],[35752434-35752484],[35752804-35752833],[35752914-35752999],[35753087-35753253],[35754017-35754157],[35754246-35754319],[35754393-35754519]\n",
      "22 - gene_id \"ENSG00000138944\"; transcript_id \"ENST00000381176\"; saluki_score \"1.0\";  [44243667-44249685],[44285428-44285745],[44296672-44296885],[44300879-44300977],[44312751-44312851]\n"
     ]
    }
   ],
   "source": [
    "########################################################\n",
    "# read gene data\n",
    "\n",
    "# open genes GTF\n",
    "genes_gtf = pygene.GTF(genes_gtf_file)\n",
    "\n",
    "# open genome FASTA\n",
    "genome_open = pysam.Fastafile(genome_fasta_file)\n",
    "\n",
    "# initialize dicts\n",
    "gene_seq1 = {}\n",
    "# gene_names = {}\n",
    "\n",
    "for gene_id, gene in genes_gtf.genes.items():\n",
    "    # choose top transcript\n",
    "    score_transcripts = [(tx.kv['saluki_score'],tx_id,tx) for tx_id, tx in gene.transcripts.items()]\n",
    "    _, tx_id, tx = sorted(score_transcripts)[-1]\n",
    "    \n",
    "    # one hot encode\n",
    "    tx_seq1 = rna_1hot_splice(tx, genome_open)\n",
    "    \n",
    "    # check coding\n",
    "    valid_coding = (tx_seq1[:,-2].sum() > 0)\n",
    "    \n",
    "    # save\n",
    "    if valid_coding:\n",
    "        gene_id = trim_dot(gene_id)\n",
    "        gene_seq1[gene_id] = tx_seq1\n",
    "        # gene_names[gene_id] = tx.kv['gene_name']"
   ]
  },
  {
   "cell_type": "code",
   "execution_count": 13,
   "metadata": {},
   "outputs": [
    {
     "data": {
      "text/plain": [
       "(12968, 0.9989985363223173)"
      ]
     },
     "execution_count": 13,
     "metadata": {},
     "output_type": "execute_result"
    }
   ],
   "source": [
    "# filter genes\n",
    "\n",
    "gene_mask = np.array([gene_id in gene_seq1 for gene_id in stability_df.Gene])\n",
    "gene_mask.sum(), gene_mask.mean()"
   ]
  },
  {
   "cell_type": "code",
   "execution_count": 14,
   "metadata": {},
   "outputs": [
    {
     "name": "stdout",
     "output_type": "stream",
     "text": [
      "       Fold             Gene  Stability\n",
      "522       2  ENSG00000048405  -1.724673\n",
      "2855      7  ENSG00000108424   0.868830\n",
      "4208      6  ENSG00000122484  -0.680720\n",
      "4238      6  ENSG00000122756   1.396266\n",
      "4243      1  ENSG00000122824  -0.200585\n",
      "8796      2  ENSG00000165480  -0.280310\n",
      "10178     2  ENSG00000174963  -0.002990\n",
      "10234     6  ENSG00000175445   0.429118\n",
      "11161     2  ENSG00000185008  -0.219503\n",
      "11333    10  ENSG00000186352  -1.703123\n",
      "11675     8  ENSG00000196368   0.057440\n",
      "11725     6  ENSG00000196605   0.607139\n",
      "12177     3  ENSG00000203791   0.883445\n"
     ]
    }
   ],
   "source": [
    "print(stability_df[~gene_mask])"
   ]
  },
  {
   "cell_type": "code",
   "execution_count": 15,
   "metadata": {},
   "outputs": [
    {
     "data": {
      "text/plain": [
       "(12968, 3)"
      ]
     },
     "execution_count": 15,
     "metadata": {},
     "output_type": "execute_result"
    }
   ],
   "source": [
    "# filter genes\n",
    "\n",
    "stability_df = stability_df[gene_mask].copy()\n",
    "stability_df.shape"
   ]
  },
  {
   "cell_type": "code",
   "execution_count": 16,
   "metadata": {},
   "outputs": [
    {
     "name": "stderr",
     "output_type": "stream",
     "text": [
      "findfont: Font family ['sans-serif'] not found. Falling back to DejaVu Sans.\n",
      "findfont: Generic family 'sans-serif' not found because none of the following families were found: Helvetica\n"
     ]
    },
    {
     "data": {
      "text/plain": [
       "<seaborn.axisgrid.FacetGrid at 0x7f1ad0874f10>"
      ]
     },
     "execution_count": 16,
     "metadata": {},
     "output_type": "execute_result"
    },
    {
     "data": {
      "image/png": "[encoded data removed]",
      "text/plain": [
       "<Figure size 576x288 with 1 Axes>"
      ]
     },
     "metadata": {
      "needs_background": "light"
     },
     "output_type": "display_data"
    }
   ],
   "source": [
    "sns.displot(stability_df.Stability, aspect=2, height=4)"
   ]
  },
  {
   "cell_type": "markdown",
   "metadata": {},
   "source": [
    "## Length"
   ]
  },
  {
   "cell_type": "code",
   "execution_count": 17,
   "metadata": {},
   "outputs": [],
   "source": [
    "# add length\n",
    "\n",
    "gene_lengths = np.array([gene_seq1[gene_id].shape[0] for gene_id in stability_df.Gene])\n",
    "stability_df['Length'] = gene_lengths"
   ]
  },
  {
   "cell_type": "code",
   "execution_count": 18,
   "metadata": {},
   "outputs": [
    {
     "data": {
      "text/plain": [
       "<seaborn.axisgrid.FacetGrid at 0x7f1ac7617550>"
      ]
     },
     "execution_count": 18,
     "metadata": {},
     "output_type": "execute_result"
    },
    {
     "data": {
      "image/png": "[encoded data removed]",
      "text/plain": [
       "<Figure size 360x360 with 1 Axes>"
      ]
     },
     "metadata": {
      "needs_background": "light"
     },
     "output_type": "display_data"
    }
   ],
   "source": [
    "sns.displot(np.log2(1+stability_df.Length))"
   ]
  },
  {
   "cell_type": "code",
   "execution_count": 19,
   "metadata": {},
   "outputs": [
    {
     "data": {
      "text/plain": [
       "(16384, 14.0, 0.9966070326958667)"
      ]
     },
     "execution_count": 19,
     "metadata": {},
     "output_type": "execute_result"
    }
   ],
   "source": [
    "full_len_t = 2**14\n",
    "full_len_t, np.log2(full_len_t), (stability_df.Length<full_len_t).mean()"
   ]
  },
  {
   "cell_type": "code",
   "execution_count": 20,
   "metadata": {},
   "outputs": [
    {
     "data": {
      "text/plain": [
       "(12288, 13.584962500721156, 0.9844231955582974)"
      ]
     },
     "execution_count": 20,
     "metadata": {},
     "output_type": "execute_result"
    }
   ],
   "source": [
    "full_len_t = 3*2**12\n",
    "full_len_t, np.log2(full_len_t), (stability_df.Length<full_len_t).mean()"
   ]
  },
  {
   "cell_type": "markdown",
   "metadata": {},
   "source": [
    "## Training data"
   ]
  },
  {
   "cell_type": "code",
   "execution_count": 21,
   "metadata": {},
   "outputs": [],
   "source": [
    "# set fold masks\n",
    "\n",
    "num_folds = len(set(stability_df.Fold))\n",
    "fold_masks = []\n",
    "for fi in range(num_folds):\n",
    "    fold_indexes = np.where(stability_df.Fold == fi+1)[0]\n",
    "    fold_mask = np.zeros(stability_df.shape[0], dtype='bool')\n",
    "    fold_mask[fold_indexes] = 1\n",
    "    fold_masks.append(fold_mask)"
   ]
  },
  {
   "cell_type": "code",
   "execution_count": 22,
   "metadata": {},
   "outputs": [],
   "source": [
    "def feature_bytes(values):\n",
    "    \"\"\"Convert numpy arrays to bytes features.\"\"\"\n",
    "    values = values.flatten().tostring()\n",
    "    return tf.train.Feature(bytes_list=tf.train.BytesList(value=[values]))"
   ]
  },
  {
   "cell_type": "code",
   "execution_count": 23,
   "metadata": {},
   "outputs": [],
   "source": [
    "def tfr_feature_ints(int_list):\n",
    "    return tf.train.Feature(int64_list=tf.train.Int64List(value=int_list))\n",
    "def tfr_feature_dna(seq_1hot):\n",
    "    seq_indexes = np.where(seq_1hot)[1].astype('uint8')\n",
    "    seq_indexes = seq_indexes.tostring()\n",
    "    return tf.train.Feature(bytes_list=tf.train.BytesList(value=[seq_indexes]))\n",
    "def tfr_feature_track(seq_track):\n",
    "    seq_track = seq_track.astype('uint8')\n",
    "    seq_track = seq_track.tostring()\n",
    "    return tf.train.Feature(bytes_list=tf.train.BytesList(value=[seq_track]))\n",
    "def tfr_feature_targets(targets):\n",
    "    targets = targets.astype('float16')\n",
    "    targets = targets.tostring()\n",
    "    return tf.train.Feature(bytes_list=tf.train.BytesList(value=[targets]))"
   ]
  },
  {
   "cell_type": "code",
   "execution_count": 24,
   "metadata": {},
   "outputs": [],
   "source": [
    "def write_fold(fold_index, out_dir, seqs_per_tfr=128):\n",
    "    tf_opts = tf.io.TFRecordOptions(compression_type='ZLIB')\n",
    "    \n",
    "    # slice fold's genes\n",
    "    fold_df = stability_df[fold_masks[fold_index]]\n",
    "    \n",
    "    gi = 0\n",
    "    num_tfr = int(np.ceil(fold_df.shape[0] / seqs_per_tfr))\n",
    "    for fi in range(num_tfr):\n",
    "        tfr_file = '%s/fold%d-%d.tfr' % (out_dir,fold_index,fi)\n",
    "        with tf.io.TFRecordWriter(tfr_file, tf_opts) as writer:\n",
    "            for ti in range(seqs_per_tfr):\n",
    "                if gi < fold_df.shape[0]:\n",
    "                    sgene = fold_df.iloc[gi]\n",
    "                    gene_id = sgene.Gene\n",
    "                    \n",
    "                    # trim sequence\n",
    "                    seq1 = gene_seq1[gene_id][:full_len_t]\n",
    "                    seq_len = seq1.shape[0]\n",
    "                    \n",
    "                    # split\n",
    "                    sequence = seq1[:,:4]\n",
    "                    coding = seq1[:,4]\n",
    "                    splice = seq1[:,5]\n",
    "                        \n",
    "                    # targets\n",
    "                    # targets = np.log2(sgene.Stability + pseudocount)\n",
    "                    targets = sgene.Stability\n",
    "\n",
    "                    # hash to bytes\n",
    "                    features_dict = {\n",
    "                        'lengths': tfr_feature_ints([seq_len]),\n",
    "                        'sequence': tfr_feature_dna(sequence),\n",
    "                        'coding': tfr_feature_track(coding),\n",
    "                        'splice': tfr_feature_track(splice),\n",
    "                        'targets': tfr_feature_targets(targets)\n",
    "                    }\n",
    "\n",
    "                    # write example\n",
    "                    example = tf.train.Example(features=tf.train.Features(feature=features_dict))\n",
    "                    writer.write(example.SerializeToString())\n",
    "                \n",
    "                    # next gene\n",
    "                    gi += 1"
   ]
  },
  {
   "cell_type": "code",
   "execution_count": 25,
   "metadata": {},
   "outputs": [
    {
     "name": "stderr",
     "output_type": "stream",
     "text": [
      "/tmp/ipykernel_8716/1940088090.py:5: DeprecationWarning: tostring() is deprecated. Use tobytes() instead.\n",
      "  seq_indexes = seq_indexes.tostring()\n",
      "/tmp/ipykernel_8716/1940088090.py:9: DeprecationWarning: tostring() is deprecated. Use tobytes() instead.\n",
      "  seq_track = seq_track.tostring()\n",
      "/tmp/ipykernel_8716/1940088090.py:13: DeprecationWarning: tostring() is deprecated. Use tobytes() instead.\n",
      "  targets = targets.tostring()\n"
     ]
    }
   ],
   "source": [
    "################################################################\n",
    "# output directory\n",
    "\n",
    "out_dir = 'data'\n",
    "if os.path.isdir(out_dir):\n",
    "    shutil.rmtree(out_dir)\n",
    "os.mkdir(out_dir)\n",
    "\n",
    "################################################################\n",
    "# stats\n",
    "stats_dict = {}\n",
    "stats_dict['num_targets'] = 1\n",
    "stats_dict['target_length'] = 1\n",
    "stats_dict['length_t'] = full_len_t\n",
    "\n",
    "stats_dict['num_folds'] = num_folds\n",
    "for fi in range(num_folds):\n",
    "    stats_dict['fold%d_seqs' % fi] = int(fold_masks[fi].sum())\n",
    "\n",
    "with open('%s/statistics.json' % out_dir, 'w') as stats_json_out:\n",
    "    json.dump(stats_dict, stats_json_out, indent=4)\n",
    "    \n",
    "################################################################\n",
    "# write gene table\n",
    "\n",
    "data_genes_df_list = [] \n",
    "for fi in range(num_folds):\n",
    "    fold_df = stability_df[fold_masks[fi]]    \n",
    "    data_genes_df_list.append(fold_df)\n",
    "\n",
    "data_genes_df = pd.concat(data_genes_df_list, axis=0)\n",
    "data_genes_df.set_index(np.arange(data_genes_df.shape[0]), inplace=True)\n",
    "data_genes_df['Fold'] = data_genes_df.Fold - 1\n",
    "data_genes_df.to_csv('%s/genes.tsv' % out_dir, sep='\\t')\n",
    "\n",
    "################################################################\n",
    "# write tfrecords\n",
    "\n",
    "tfrecords_dir = '%s/tfrecords' % out_dir\n",
    "os.mkdir(tfrecords_dir)\n",
    "for fi in range(num_folds):\n",
    "    write_fold(fi, tfrecords_dir)"
   ]
  },
  {
   "cell_type": "code",
   "execution_count": 37,
   "metadata": {},
   "outputs": [],
   "source": []
  }
 ],
 "metadata": {
  "kernelspec": {
   "display_name": "Python 3 (ipykernel)",
   "language": "python",
   "name": "python3"
  },
  "language_info": {
   "codemirror_mode": {
    "name": "ipython",
    "version": 3
   },
   "file_extension": ".py",
   "mimetype": "text/x-python",
   "name": "python",
   "nbconvert_exporter": "python",
   "pygments_lexer": "ipython3",
   "version": "3.9.0"
  }
 },
 "nbformat": 4,
 "nbformat_minor": 4
}
