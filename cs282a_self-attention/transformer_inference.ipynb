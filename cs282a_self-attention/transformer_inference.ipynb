{
 "cells": [
  {
   "cell_type": "code",
   "execution_count": 1,
   "id": "5289a40e",
   "metadata": {},
   "outputs": [],
   "source": [
    "import torch\n",
    "import numpy as np\n",
    "import torch.nn as nn\n",
    "from torch.utils.data import Dataset, DataLoader\n",
    "from sklearn.metrics import mean_absolute_error\n",
    "from scipy.stats import spearmanr, pearsonr\n",
    "from datetime import datetime\n",
    "from tqdm import tqdm\n",
    "import h5py"
   ]
  },
  {
   "cell_type": "code",
   "execution_count": 2,
   "id": "430baf25",
   "metadata": {},
   "outputs": [],
   "source": [
    "class TransformerDecoder(nn.Module):\n",
    "    def __init__(self, d_model, heads, forward_expansion, dropout, max_length):\n",
    "        super(TransformerDecoder, self).__init__()\n",
    "        self.attention = nn.MultiheadAttention(embed_dim=d_model, num_heads=heads, dropout=dropout)\n",
    "        self.norm1 = nn.LayerNorm(d_model)\n",
    "        self.norm2 = nn.LayerNorm(d_model)\n",
    "\n",
    "        self.feed_forward = nn.Sequential(\n",
    "            nn.Linear(d_model, forward_expansion * d_model),\n",
    "            nn.ReLU(),\n",
    "            nn.Dropout(dropout),\n",
    "            nn.Linear(forward_expansion * d_model, d_model)\n",
    "        )\n",
    "\n",
    "        self.dropout = nn.Dropout(dropout)\n",
    "\n",
    "        # Additional linear layer for output transformation\n",
    "        self.output_transform = nn.Linear(d_model, 18)\n",
    "\n",
    "        # Adaptive pooling layer to handle sequence length\n",
    "        self.sequence_pooling = nn.AdaptiveAvgPool1d(1)\n",
    "\n",
    "    def forward(self, x, enc_out=None, src_mask=None, trg_mask=None):\n",
    "        attention_output, _ = self.attention(x, x, x, attn_mask=trg_mask)\n",
    "        query = self.dropout(self.norm1(attention_output + x))\n",
    "\n",
    "        out = self.feed_forward(query)\n",
    "        out = self.dropout(self.norm2(out + query))\n",
    "\n",
    "        out_transformed = self.output_transform(out)\n",
    "\n",
    "        out_pooled = self.sequence_pooling(out_transformed.transpose(1, 2)).transpose(1, 2)\n",
    "\n",
    "        return out_pooled"
   ]
  },
  {
   "cell_type": "code",
   "execution_count": 6,
   "id": "f09a1546",
   "metadata": {},
   "outputs": [
    {
     "data": {
      "text/plain": [
       "TransformerDecoder(\n",
       "  (attention): MultiheadAttention(\n",
       "    (out_proj): NonDynamicallyQuantizableLinear(in_features=1536, out_features=1536, bias=True)\n",
       "  )\n",
       "  (norm1): LayerNorm((1536,), eps=1e-05, elementwise_affine=True)\n",
       "  (norm2): LayerNorm((1536,), eps=1e-05, elementwise_affine=True)\n",
       "  (feed_forward): Sequential(\n",
       "    (0): Linear(in_features=1536, out_features=3072, bias=True)\n",
       "    (1): ReLU()\n",
       "    (2): Dropout(p=0.2, inplace=False)\n",
       "    (3): Linear(in_features=3072, out_features=1536, bias=True)\n",
       "  )\n",
       "  (dropout): Dropout(p=0.2, inplace=False)\n",
       "  (output_transform): Linear(in_features=1536, out_features=18, bias=True)\n",
       "  (sequence_pooling): AdaptiveAvgPool1d(output_size=1)\n",
       ")"
      ]
     },
     "execution_count": 6,
     "metadata": {},
     "output_type": "execute_result"
    }
   ],
   "source": [
    "trained_basenji_transformer = TransformerDecoder(d_model=1536, heads=6, forward_expansion=2, dropout=0.2, max_length=896)\n",
    "trained_filepath  = 'model_20231128_080512_7'\n",
    "trained_basenji_transformer.load_state_dict(torch.load(trained_filepath))\n",
    "trained_basenji_transformer.eval()"
   ]
  },
  {
   "cell_type": "code",
   "execution_count": 7,
   "id": "e6db5991",
   "metadata": {},
   "outputs": [],
   "source": [
    "predictions_savepath = f'/clusterfs/nilah/oberon/datasets/cs282a/inference/transformer_model_20231128_080512_7.h5'\n",
    "f = h5py.File('/clusterfs/nilah/oberon/datasets/basenji/embeddings/embeddings.h5','r')\n",
    "dset = f['embeddings']"
   ]
  },
  {
   "cell_type": "code",
   "execution_count": 8,
   "id": "69fd704d",
   "metadata": {},
   "outputs": [
    {
     "name": "stderr",
     "output_type": "stream",
     "text": [
      "100%|██████████| 38171/38171 [1:04:37<00:00,  9.84it/s]\n"
     ]
    }
   ],
   "source": [
    "with h5py.File(predictions_savepath,'w') as savefile:\n",
    "    savefile.create_dataset(\n",
    "        'single_bin',\n",
    "        shape=(len(dset),1,18),\n",
    "        chunks=(1,1,18),\n",
    "        compression='gzip',\n",
    "        compression_opts=9,\n",
    "    )\n",
    "    for i in tqdm(range(len(dset))):\n",
    "        inputs = torch.Tensor(f['embeddings'][i]).reshape(1,896,1536)\n",
    "        predictions = trained_basenji_transformer(inputs)\n",
    "        savefile['single_bin'][i,:,:] = predictions.detach()"
   ]
  },
  {
   "cell_type": "code",
   "execution_count": null,
   "id": "a59af930",
   "metadata": {},
   "outputs": [],
   "source": []
  }
 ],
 "metadata": {
  "kernelspec": {
   "display_name": "pytorch_cs282a_mlp",
   "language": "python",
   "name": "pytorch_cs282a_mlp"
  },
  "language_info": {
   "codemirror_mode": {
    "name": "ipython",
    "version": 3
   },
   "file_extension": ".py",
   "mimetype": "text/x-python",
   "name": "python",
   "nbconvert_exporter": "python",
   "pygments_lexer": "ipython3",
   "version": "3.8.18"
  }
 },
 "nbformat": 4,
 "nbformat_minor": 5
}
