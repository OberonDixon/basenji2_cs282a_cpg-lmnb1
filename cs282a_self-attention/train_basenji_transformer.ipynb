{
 "cells": [
  {
   "cell_type": "code",
   "execution_count": 1,
   "metadata": {
    "id": "2m0476V_mns9"
   },
   "outputs": [],
   "source": [
    "import torch\n",
    "import numpy as np\n",
    "import torch.nn as nn\n",
    "from torch.utils.data import Dataset, DataLoader\n",
    "from sklearn.metrics import mean_absolute_error\n",
    "from scipy.stats import spearmanr, pearsonr\n",
    "from datetime import datetime\n",
    "from tqdm import tqdm\n",
    "from torch.utils.tensorboard import SummaryWriter"
   ]
  },
  {
   "cell_type": "code",
   "execution_count": 5,
   "metadata": {
    "id": "HpbfpO33nCCy"
   },
   "outputs": [],
   "source": [
    "class TransformerDecoder(nn.Module):\n",
    "    def __init__(self, d_model, heads, forward_expansion, dropout, max_length):\n",
    "        super(TransformerDecoder, self).__init__()\n",
    "        self.attention = nn.MultiheadAttention(embed_dim=d_model, num_heads=heads, dropout=dropout)\n",
    "        self.norm1 = nn.LayerNorm(d_model)\n",
    "        self.norm2 = nn.LayerNorm(d_model)\n",
    "\n",
    "        self.feed_forward = nn.Sequential(\n",
    "            nn.Linear(d_model, forward_expansion * d_model),\n",
    "            nn.ReLU(),\n",
    "            nn.Dropout(dropout),\n",
    "            nn.Linear(forward_expansion * d_model, d_model)\n",
    "        )\n",
    "\n",
    "        self.dropout = nn.Dropout(dropout)\n",
    "\n",
    "        # Additional linear layer for output transformation\n",
    "        self.output_transform = nn.Linear(d_model, 18)\n",
    "\n",
    "        # Adaptive pooling layer to handle sequence length\n",
    "        self.sequence_pooling = nn.AdaptiveAvgPool1d(1)\n",
    "\n",
    "    def forward(self, x, enc_out=None, src_mask=None, trg_mask=None):\n",
    "        attention_output, _ = self.attention(x, x, x, attn_mask=trg_mask)\n",
    "        query = self.dropout(self.norm1(attention_output + x))\n",
    "\n",
    "        out = self.feed_forward(query)\n",
    "        out = self.dropout(self.norm2(out + query))\n",
    "\n",
    "        out_transformed = self.output_transform(out)\n",
    "\n",
    "        out_pooled = self.sequence_pooling(out_transformed.transpose(1, 2)).transpose(1, 2)\n",
    "\n",
    "        return out_pooled"
   ]
  },
  {
   "cell_type": "code",
   "execution_count": 6,
   "metadata": {
    "id": "UyEvIEb7nMrC"
   },
   "outputs": [],
   "source": [
    "import h5py"
   ]
  },
  {
   "cell_type": "code",
   "execution_count": 7,
   "metadata": {
    "id": "NotNLpSKnO61"
   },
   "outputs": [],
   "source": [
    "def load_data(file_path, dataset_name, start=0, chunk_size=None):\n",
    "    with h5py.File(file_path, 'r') as file:\n",
    "        if chunk_size is not None:\n",
    "            data = file[dataset_name][start:start+chunk_size]\n",
    "        else:\n",
    "            data = file[dataset_name][:]\n",
    "    return data\n",
    "\n",
    "\n",
    "# # Load embeddings. The code below is for loading all embeddings directly from the beginning. Currently, embeddings are produced on training runs.\n",
    "# embeddings = load_data('/content/drive/My Drive/basenji transformer stuff/datasets/embeddings200.h5', 'embeddings')\n",
    "\n",
    "# # Load labels\n",
    "# labels_single_bin = load_data('/content/drive/My Drive/basenji transformer stuff/datasets/dataset_14-lmnb1_4-cpg.h5', 'single_bin')"
   ]
  },
  {
   "cell_type": "code",
   "execution_count": 11,
   "metadata": {},
   "outputs": [
    {
     "name": "stdout",
     "output_type": "stream",
     "text": [
      "starting at  2023-11-28 07:42:11.677318\n",
      "0:00:33.070168\n",
      "0:01:01.845817\n",
      "0:23:01.125770\n",
      "0:23:01.133266\n",
      "0:23:01.133506\n",
      "0:23:01.169850\n"
     ]
    }
   ],
   "source": [
    "f = h5py.File('/clusterfs/nilah/oberon/datasets/basenji/embeddings/embeddings.h5','r')\n",
    "dset = f['embeddings']\n",
    "\n",
    "train_inds = np.zeros(len(dset), dtype=bool)\n",
    "val_inds = np.zeros(len(dset), dtype=bool)\n",
    "test_inds = np.zeros(len(dset), dtype=bool)\n",
    "\n",
    "train_inds[:34021]=True\n",
    "val_inds[34021:36234]=True\n",
    "test_inds[36234:]=True\n",
    "\n",
    "labels_full = h5py.File('/clusterfs/nilah/oberon/datasets/cs282a/dataset_14-lmnb1_4-cpg.h5')['single_bin']\n",
    "\n",
    "start_load = datetime.now()\n",
    "print('starting at ',start_load)\n",
    "val_tensor_dset = torch.utils.data.TensorDataset(torch.Tensor(dset[val_inds]), torch.Tensor(labels_full[val_inds]))\n",
    "print(datetime.now()-start_load)\n",
    "test_tensor_dset = torch.utils.data.TensorDataset(torch.Tensor(dset[test_inds]), torch.Tensor(labels_full[test_inds]))\n",
    "print(datetime.now()-start_load)\n",
    "train_tensor_dset = torch.utils.data.TensorDataset(torch.Tensor(dset[train_inds]), torch.Tensor(labels_full[train_inds]))\n",
    "print(datetime.now()-start_load)\n",
    "training_loader = torch.utils.data.DataLoader(train_tensor_dset, batch_size=4, shuffle=True)\n",
    "print(datetime.now()-start_load)\n",
    "validation_loader = torch.utils.data.DataLoader(val_tensor_dset, batch_size=4, shuffle=False)\n",
    "print(datetime.now()-start_load)\n",
    "test_loader = torch.utils.data.DataLoader(test_tensor_dset, batch_size=4, shuffle=False)\n",
    "print(datetime.now()-start_load)"
   ]
  },
  {
   "cell_type": "code",
   "execution_count": null,
   "metadata": {
    "colab": {
     "base_uri": "https://localhost:8080/"
    },
    "id": "kzS8Ov5jnQ6_",
    "outputId": "94b79a59-60e6-4ed3-b97f-8238712f5d40"
   },
   "outputs": [
    {
     "name": "stdout",
     "output_type": "stream",
     "text": [
      "Epoch 1\n",
      "-------------------------------\n"
     ]
    },
    {
     "name": "stderr",
     "output_type": "stream",
     "text": [
      "training epoch 0: 8506it [1:25:10,  1.66it/s]                             \n"
     ]
    },
    {
     "name": "stdout",
     "output_type": "stream",
     "text": [
      "Training Loss: nan, Training MAE: 15.354476928710938, Pearson correlation: 0.9400688422277668, Spearman correlation: 0.911699149009928\n"
     ]
    },
    {
     "name": "stderr",
     "output_type": "stream",
     "text": [
      "validating epoch0: 554it [00:37, 14.89it/s]                            \n"
     ]
    },
    {
     "name": "stdout",
     "output_type": "stream",
     "text": [
      "Validation Loss: 529.8968188686173, Validation MAE: 15.633580207824707, Pearson correlation: 0.9477034922349774, Spearman correlation: 0.9168417617607615\n",
      "Epoch 2\n",
      "-------------------------------\n"
     ]
    },
    {
     "name": "stderr",
     "output_type": "stream",
     "text": [
      "training epoch 1: 8506it [1:26:56,  1.63it/s]                               \n"
     ]
    },
    {
     "name": "stdout",
     "output_type": "stream",
     "text": [
      "Training Loss: nan, Training MAE: 13.98198127746582, Pearson correlation: 0.952980836825945, Spearman correlation: 0.9271632714830261\n"
     ]
    },
    {
     "name": "stderr",
     "output_type": "stream",
     "text": [
      "validating epoch1: 554it [00:38, 14.29it/s]                            \n"
     ]
    },
    {
     "name": "stdout",
     "output_type": "stream",
     "text": [
      "Validation Loss: 514.7512879990045, Validation MAE: 15.280576705932617, Pearson correlation: 0.9486305976775996, Spearman correlation: 0.9196919827529264\n",
      "Epoch 3\n",
      "-------------------------------\n"
     ]
    },
    {
     "name": "stderr",
     "output_type": "stream",
     "text": [
      "training epoch 2:  52%|█████▏    | 4381/8505.25 [38:22<36:53,  1.86it/s]  "
     ]
    }
   ],
   "source": [
    "# # Parameters\n",
    "# total_size = 36234  # Total size of your dataset\n",
    "# chunk_size = 1024  # Define your chunk size based on memory capacity\n",
    "# batch_size = 32    # Define your batch size\n",
    "# split_idx = 34021    # Assuming 160 samples for training and 40 for validation\n",
    "\n",
    "# # Shuffle and split indices for training and validation\n",
    "# indices = torch.randperm(total_size).tolist()\n",
    "# train_indices = set(indices[:split_idx])\n",
    "# val_indices = set(indices[split_idx:])\n",
    "\n",
    "# Initialize model, optimizer, and loss function\n",
    "basenji_transformer = TransformerDecoder(d_model=1536, heads=6, forward_expansion=2, dropout=0.2, max_length=896)\n",
    "optimizer = torch.optim.Adam(basenji_transformer.parameters(), lr=0.001)\n",
    "loss_function = torch.nn.MSELoss()\n",
    "\n",
    "# Training and validation\n",
    "num_epochs = 10\n",
    "best_vloss = 1_000_000.\n",
    "timestamp = datetime.now().strftime('%Y%m%d_%H%M%S')\n",
    "writer = SummaryWriter('runs/mlp_model_{}'.format(timestamp))\n",
    "train_loss_list = []\n",
    "val_loss_list = []\n",
    "\n",
    "\n",
    "for epoch in range(num_epochs):\n",
    "    print(f\"Epoch {epoch+1}\\n-------------------------------\")\n",
    "    \n",
    "    # Training\n",
    "    basenji_transformer.train()\n",
    "    total_loss_train, total_samples_train = 0, 0\n",
    "    all_targets_train, all_predictions_train = [], []\n",
    "\n",
    "    for i, data in tqdm(enumerate(training_loader),desc=f'training epoch {epoch}',total=np.sum(train_inds)/4):\n",
    "        batch, target = data\n",
    "\n",
    "        optimizer.zero_grad()\n",
    "        output = basenji_transformer(batch)\n",
    "        loss_value = loss_function(output, target)\n",
    "        loss_value.backward()\n",
    "        \n",
    "        # Apply torch.nan_to_num to gradients\n",
    "        for param in basenji_transformer.parameters():\n",
    "            if param.grad is not None:\n",
    "                param.grad = torch.nan_to_num(param.grad)\n",
    "        \n",
    "        optimizer.step()\n",
    "\n",
    "        total_loss_train += loss_value.item() * batch.size(0)\n",
    "        total_samples_train += batch.size(0)\n",
    "\n",
    "        all_predictions_train.extend(torch.nan_to_num(output).detach().cpu().numpy())\n",
    "        all_targets_train.extend(torch.nan_to_num(target).cpu().numpy())\n",
    "\n",
    "    avg_loss_train = total_loss_train / total_samples_train\n",
    "    train_loss_list.append(avg_loss_train)\n",
    "    train_mae = mean_absolute_error(np.vstack(all_targets_train), np.vstack(all_predictions_train))\n",
    "    \n",
    "    \n",
    "    ptrain_corr,_ = pearsonr(np.array(all_predictions_train).flatten(),np.array(all_targets_train).flatten())\n",
    "    strain_corr,_ = spearmanr(np.array(all_predictions_train).flatten(),np.array(all_targets_train).flatten())\n",
    "    \n",
    "    print(f\"Training Loss: {avg_loss_train}, Training MAE: {train_mae}, Pearson correlation: {ptrain_corr}, Spearman correlation: {strain_corr}\")\n",
    "\n",
    "    # Validation\n",
    "    basenji_transformer.eval()\n",
    "    total_loss_val, total_samples_val = 0, 0\n",
    "    all_targets_val, all_predictions_val = [], []\n",
    "\n",
    "    for i, vdata in tqdm(enumerate(validation_loader),desc=f'validating epoch{epoch}',total=np.sum(val_inds)/4):\n",
    "        with torch.no_grad():\n",
    "            batch, target = vdata\n",
    "\n",
    "            output = basenji_transformer(batch)\n",
    "            loss_value = loss_function(output, target)\n",
    "            total_loss_val += loss_value.item() * batch.size(0)\n",
    "            total_samples_val += batch.size(0)\n",
    "\n",
    "            all_predictions_val.extend(torch.nan_to_num(output).detach().cpu().numpy())\n",
    "            all_targets_val.extend(torch.nan_to_num(target).cpu().numpy())\n",
    "\n",
    "    avg_loss_val = total_loss_val / total_samples_val\n",
    "    val_loss_list.append(avg_loss_val)\n",
    "    val_mae = mean_absolute_error(np.vstack(all_targets_val), np.vstack(all_predictions_val))\n",
    "    \n",
    "    pval_corr,_ = pearsonr(np.array(all_predictions_val).flatten(),np.array(all_targets_val).flatten())\n",
    "    sval_corr,_ = spearmanr(np.array(all_predictions_val).flatten(),np.array(all_targets_val).flatten())\n",
    "    \n",
    "    if avg_loss_val < best_vloss:\n",
    "        best_vloss = avg_loss_val\n",
    "        model_path = 'model_{}_{}'.format(timestamp, epoch)\n",
    "        torch.save(basenji_transformer.state_dict(), model_path)\n",
    "        \n",
    "    writer.add_scalars('Training vs. Validation Loss',\n",
    "                    { 'Training' : avg_loss_train, 'Validation' : avg_loss_val },\n",
    "                    epoch + 1)\n",
    "    writer.flush()\n",
    "\n",
    "    print(f\"Validation Loss: {avg_loss_val}, Validation MAE: {val_mae}, Pearson correlation: {pval_corr}, Spearman correlation: {sval_corr}\")"
   ]
  },
  {
   "cell_type": "code",
   "execution_count": null,
   "metadata": {
    "colab": {
     "base_uri": "https://localhost:8080/",
     "height": 564
    },
    "id": "BxdJw9e4v_5m",
    "outputId": "b8004aec-05fa-4c32-fa20-01711acb2900"
   },
   "outputs": [
    {
     "data": {
      "image/png": "[encoded data removed]",
      "text/plain": [
       "<Figure size 1000x600 with 1 Axes>"
      ]
     },
     "metadata": {},
     "output_type": "display_data"
    }
   ],
   "source": [
    "import matplotlib.pyplot as plt\n",
    "\n",
    "# Assuming train_loss_list and val_loss_list are filled with loss values from your training loop\n",
    "epochs = range(1, num_epochs + 1)\n",
    "\n",
    "plt.figure(figsize=(10, 6))\n",
    "plt.plot(epochs, train_loss_list, 'b-', label='Training Loss')\n",
    "plt.plot(epochs, val_loss_list, 'r-', label='Validation Loss')\n",
    "plt.title('Training and Validation Loss')\n",
    "plt.xlabel('Epochs')\n",
    "plt.ylabel('Loss')\n",
    "plt.legend()\n",
    "plt.show()"
   ]
  },
  {
   "cell_type": "code",
   "execution_count": null,
   "metadata": {
    "id": "1ASOeTbu-be8"
   },
   "outputs": [],
   "source": []
  }
 ],
 "metadata": {
  "accelerator": "GPU",
  "colab": {
   "gpuType": "A100",
   "machine_shape": "hm",
   "provenance": []
  },
  "kernelspec": {
   "display_name": "pytorch_cs282a_mlp",
   "language": "python",
   "name": "pytorch_cs282a_mlp"
  },
  "language_info": {
   "codemirror_mode": {
    "name": "ipython",
    "version": 3
   },
   "file_extension": ".py",
   "mimetype": "text/x-python",
   "name": "python",
   "nbconvert_exporter": "python",
   "pygments_lexer": "ipython3",
   "version": "3.8.18"
  }
 },
 "nbformat": 4,
 "nbformat_minor": 1
}
