{
 "cells": [
  {
   "cell_type": "markdown",
   "metadata": {},
   "source": [
    "### Running Inference on Different Fine-Tuning Models\n",
    "\n",
    "This notebook is intended for CS 182/282A project reviewers to verify that the models run. To re-run experiments to see how the models were trained, please take a look at the subdirectories after."
   ]
  },
  {
   "cell_type": "code",
   "execution_count": 1,
   "metadata": {},
   "outputs": [],
   "source": [
    "import h5py\n",
    "import torch\n",
    "from torch import nn\n",
    "from collections import OrderedDict"
   ]
  },
  {
   "cell_type": "markdown",
   "metadata": {},
   "source": [
    "#### 0. Test Embeddings"
   ]
  },
  {
   "cell_type": "code",
   "execution_count": 2,
   "metadata": {},
   "outputs": [],
   "source": [
    "test_path = f'./sample_data/test_chunk_X1.h5'\n",
    "f = h5py.File(test_path, 'r')\n",
    "dset = f['embeddings']"
   ]
  },
  {
   "cell_type": "markdown",
   "metadata": {},
   "source": [
    "#### 1. Linear Transformation"
   ]
  },
  {
   "cell_type": "code",
   "execution_count": 3,
   "metadata": {},
   "outputs": [],
   "source": [
    "class LinearTransform(nn.Module):\n",
    "    \"\"\"Takes in input (B, 1536, 896) and outputs predictions (B, 18, 896).\"\"\"\n",
    "\n",
    "    def __init__(self):\n",
    "        super().__init__()\n",
    "        self.conv_layer = nn.Conv1d(in_channels=1536, out_channels=18, kernel_size=1)\n",
    "        nn.init.kaiming_normal_(self.conv_layer.weight, nonlinearity='relu')\n",
    "        nn.init.zeros_(self.conv_layer.bias)\n",
    "        self.activation = nn.Softplus()\n",
    "\n",
    "    def forward(self, x):\n",
    "        out = None\n",
    "        out = self.activation(self.conv_layer(x))\n",
    "        return out"
   ]
  },
  {
   "cell_type": "code",
   "execution_count": 4,
   "metadata": {},
   "outputs": [
    {
     "data": {
      "text/plain": [
       "LinearTransform(\n",
       "  (conv_layer): Conv1d(1536, 18, kernel_size=(1,), stride=(1,))\n",
       "  (activation): Softplus(beta=1, threshold=20)\n",
       ")"
      ]
     },
     "execution_count": 4,
     "metadata": {},
     "output_type": "execute_result"
    }
   ],
   "source": [
    "trained_probe = LinearTransform()\n",
    "trained_probe.load_state_dict(torch.load('../cs282a_linear-probing/first_full_run.pth', map_location=torch.device('cpu')))\n",
    "trained_probe.eval()"
   ]
  },
  {
   "cell_type": "code",
   "execution_count": 5,
   "metadata": {},
   "outputs": [],
   "source": [
    "for i in range(len(dset)):\n",
    "    inputs = torch.Tensor(dset[i])\n",
    "    predictions = trained_probe(inputs.transpose(0,1))"
   ]
  },
  {
   "cell_type": "markdown",
   "metadata": {},
   "source": [
    "#### 2. 1D CNN + Perceptron"
   ]
  },
  {
   "cell_type": "code",
   "execution_count": 6,
   "metadata": {},
   "outputs": [],
   "source": [
    "class MLPModel(nn.Module):\n",
    "    def __init__(self, *args, **kwargs) -> None:\n",
    "        super(MLPModel, self).__init__(*args, **kwargs)\n",
    "\n",
    "        self.layers = nn.Sequential(OrderedDict([\n",
    "            ('conv1x1', nn.Conv1d(1536, 500, 1)),\n",
    "            ('gelu1', nn.GELU()),\n",
    "            ('flatten', nn.Flatten()),\n",
    "            ('fc1', nn.Linear(448000, 18))\n",
    "        ]))\n",
    "    \n",
    "    def forward(self, x):\n",
    "        for layer in self.layers:\n",
    "            x = layer(x)\n",
    "        return x"
   ]
  },
  {
   "cell_type": "code",
   "execution_count": 7,
   "metadata": {},
   "outputs": [
    {
     "data": {
      "text/plain": [
       "MLPModel(\n",
       "  (layers): Sequential(\n",
       "    (conv1x1): Conv1d(1536, 500, kernel_size=(1,), stride=(1,))\n",
       "    (gelu1): GELU(approximate='none')\n",
       "    (flatten): Flatten(start_dim=1, end_dim=-1)\n",
       "    (fc1): Linear(in_features=448000, out_features=18, bias=True)\n",
       "  )\n",
       ")"
      ]
     },
     "execution_count": 7,
     "metadata": {},
     "output_type": "execute_result"
    }
   ],
   "source": [
    "mlp_model = MLPModel()\n",
    "mlp_model.load_state_dict(torch.load('../cs282a_conv1d_perceptron/model_20231128_063541_2'))\n",
    "mlp_model.eval()"
   ]
  },
  {
   "cell_type": "code",
   "execution_count": 8,
   "metadata": {},
   "outputs": [],
   "source": [
    "for i in range(len(dset)):\n",
    "    inputs = torch.Tensor(dset[i]).reshape(1,896,1536)\n",
    "    predictions = mlp_model(inputs.transpose(1,2))"
   ]
  },
  {
   "cell_type": "markdown",
   "metadata": {},
   "source": [
    "#### 3. 1d CNN + Max Pooling + Perceptron"
   ]
  },
  {
   "cell_type": "code",
   "execution_count": 9,
   "metadata": {},
   "outputs": [],
   "source": [
    "class MLPModelPooling(nn.Module):\n",
    "    def __init__(self, *args, **kwargs) -> None:\n",
    "        super(MLPModelPooling, self).__init__(*args, **kwargs)\n",
    "\n",
    "        self.layers = nn.Sequential(OrderedDict([\n",
    "            ('conv1x1', nn.Conv1d(1536, 500, 1)),\n",
    "            ('gelu1', nn.GELU()),\n",
    "            ('maxpool1', nn.MaxPool1d(896)),\n",
    "            ('flatten', nn.Flatten()),\n",
    "            ('fc1', nn.Linear(500, 18))\n",
    "        ]))\n",
    "    \n",
    "    def forward(self, x):\n",
    "        for layer in self.layers:\n",
    "            x = layer(x)\n",
    "        return x"
   ]
  },
  {
   "cell_type": "code",
   "execution_count": 10,
   "metadata": {},
   "outputs": [
    {
     "data": {
      "text/plain": [
       "MLPModelPooling(\n",
       "  (layers): Sequential(\n",
       "    (conv1x1): Conv1d(1536, 500, kernel_size=(1,), stride=(1,))\n",
       "    (gelu1): GELU(approximate='none')\n",
       "    (maxpool1): MaxPool1d(kernel_size=896, stride=896, padding=0, dilation=1, ceil_mode=False)\n",
       "    (flatten): Flatten(start_dim=1, end_dim=-1)\n",
       "    (fc1): Linear(in_features=500, out_features=18, bias=True)\n",
       "  )\n",
       ")"
      ]
     },
     "execution_count": 10,
     "metadata": {},
     "output_type": "execute_result"
    }
   ],
   "source": [
    "pool_model = MLPModelPooling()\n",
    "pool_model.load_state_dict(torch.load('../cs282a_perceptron-maxpool/model_20231128_072156_3'))\n",
    "pool_model.eval()"
   ]
  },
  {
   "cell_type": "code",
   "execution_count": 11,
   "metadata": {},
   "outputs": [],
   "source": [
    "for i in range(len(dset)):\n",
    "    inputs = torch.Tensor(dset[i]).reshape(1,896,1536)\n",
    "    predictions = pool_model(inputs.transpose(1,2))"
   ]
  },
  {
   "cell_type": "markdown",
   "metadata": {},
   "source": [
    "#### 4. Transformer"
   ]
  },
  {
   "cell_type": "code",
   "execution_count": 12,
   "metadata": {},
   "outputs": [],
   "source": [
    "class TransformerDecoder(nn.Module):\n",
    "    def __init__(self, d_model, heads, forward_expansion, dropout, max_length):\n",
    "        super(TransformerDecoder, self).__init__()\n",
    "        self.attention = nn.MultiheadAttention(embed_dim=d_model, num_heads=heads, dropout=dropout)\n",
    "        self.norm1 = nn.LayerNorm(d_model)\n",
    "        self.norm2 = nn.LayerNorm(d_model)\n",
    "\n",
    "        self.feed_forward = nn.Sequential(\n",
    "            nn.Linear(d_model, forward_expansion * d_model),\n",
    "            nn.ReLU(),\n",
    "            nn.Dropout(dropout),\n",
    "            nn.Linear(forward_expansion * d_model, d_model)\n",
    "        )\n",
    "\n",
    "        self.dropout = nn.Dropout(dropout)\n",
    "\n",
    "        # Additional linear layer for output transformation\n",
    "        self.output_transform = nn.Linear(d_model, 18)\n",
    "\n",
    "        # Adaptive pooling layer to handle sequence length\n",
    "        self.sequence_pooling = nn.AdaptiveAvgPool1d(1)\n",
    "\n",
    "    def forward(self, x, enc_out=None, src_mask=None, trg_mask=None):\n",
    "        attention_output, _ = self.attention(x, x, x, attn_mask=trg_mask)\n",
    "        query = self.dropout(self.norm1(attention_output + x))\n",
    "\n",
    "        out = self.feed_forward(query)\n",
    "        out = self.dropout(self.norm2(out + query))\n",
    "\n",
    "        out_transformed = self.output_transform(out)\n",
    "\n",
    "        out_pooled = self.sequence_pooling(out_transformed.transpose(1, 2)).transpose(1, 2)\n",
    "\n",
    "        return out_pooled"
   ]
  },
  {
   "cell_type": "code",
   "execution_count": 13,
   "metadata": {},
   "outputs": [
    {
     "data": {
      "text/plain": [
       "TransformerDecoder(\n",
       "  (attention): MultiheadAttention(\n",
       "    (out_proj): NonDynamicallyQuantizableLinear(in_features=1536, out_features=1536, bias=True)\n",
       "  )\n",
       "  (norm1): LayerNorm((1536,), eps=1e-05, elementwise_affine=True)\n",
       "  (norm2): LayerNorm((1536,), eps=1e-05, elementwise_affine=True)\n",
       "  (feed_forward): Sequential(\n",
       "    (0): Linear(in_features=1536, out_features=3072, bias=True)\n",
       "    (1): ReLU()\n",
       "    (2): Dropout(p=0.2, inplace=False)\n",
       "    (3): Linear(in_features=3072, out_features=1536, bias=True)\n",
       "  )\n",
       "  (dropout): Dropout(p=0.2, inplace=False)\n",
       "  (output_transform): Linear(in_features=1536, out_features=18, bias=True)\n",
       "  (sequence_pooling): AdaptiveAvgPool1d(output_size=1)\n",
       ")"
      ]
     },
     "execution_count": 13,
     "metadata": {},
     "output_type": "execute_result"
    }
   ],
   "source": [
    "trained_basenji_transformer = TransformerDecoder(d_model=1536, heads=6, forward_expansion=2, dropout=0.2, max_length=896)\n",
    "trained_filepath  = '../cs282a_self-attention/model_20231128_080512_3'\n",
    "trained_basenji_transformer.load_state_dict(torch.load(trained_filepath))\n",
    "trained_basenji_transformer.eval()"
   ]
  },
  {
   "cell_type": "code",
   "execution_count": 14,
   "metadata": {},
   "outputs": [],
   "source": [
    "for i in range(len(dset)):\n",
    "    inputs = torch.Tensor(dset[i]).reshape(1,896,1536)\n",
    "    predictions = trained_basenji_transformer(inputs)"
   ]
  }
 ],
 "metadata": {
  "kernelspec": {
   "display_name": "Python 3.7",
   "language": "python",
   "name": "python3"
  },
  "language_info": {
   "codemirror_mode": {
    "name": "ipython",
    "version": 3
   },
   "file_extension": ".py",
   "mimetype": "text/x-python",
   "name": "python",
   "nbconvert_exporter": "python",
   "pygments_lexer": "ipython3",
   "version": "3.7.4"
  }
 },
 "nbformat": 4,
 "nbformat_minor": 2
}
