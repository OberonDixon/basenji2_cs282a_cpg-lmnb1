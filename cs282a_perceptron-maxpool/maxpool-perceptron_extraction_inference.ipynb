{
 "cells": [
  {
   "cell_type": "code",
   "execution_count": 1,
   "id": "2162162f",
   "metadata": {},
   "outputs": [],
   "source": [
    "from ds_util import get_dataset\n",
    "from model import MLPModel\n",
    "import numpy as np\n",
    "import torch\n",
    "import h5py\n",
    "from datetime import datetime\n",
    "from torch.utils.tensorboard import SummaryWriter\n",
    "from scipy.stats import spearmanr, pearsonr\n",
    "from tqdm import tqdm"
   ]
  },
  {
   "cell_type": "code",
   "execution_count": 2,
   "id": "4e042616",
   "metadata": {},
   "outputs": [],
   "source": [
    "predictions_savepath = '/clusterfs/nilah/oberon/datasets/cs282a/inference/maxpool_model_20231128_072156_3.h5'"
   ]
  },
  {
   "cell_type": "code",
   "execution_count": 3,
   "id": "2db5e002",
   "metadata": {},
   "outputs": [],
   "source": [
    "f = h5py.File('/clusterfs/nilah/oberon/datasets/basenji/embeddings/embeddings.h5','r')"
   ]
  },
  {
   "cell_type": "code",
   "execution_count": 4,
   "id": "605dafb3",
   "metadata": {},
   "outputs": [],
   "source": [
    "dset = f['embeddings']"
   ]
  },
  {
   "cell_type": "code",
   "execution_count": 5,
   "id": "922c8565",
   "metadata": {},
   "outputs": [
    {
     "data": {
      "text/plain": [
       "MLPModel(\n",
       "  (layers): Sequential(\n",
       "    (conv1x1): Conv1d(1536, 500, kernel_size=(1,), stride=(1,))\n",
       "    (gelu1): GELU(approximate='none')\n",
       "    (maxpool1): MaxPool1d(kernel_size=896, stride=896, padding=0, dilation=1, ceil_mode=False)\n",
       "    (flatten): Flatten(start_dim=1, end_dim=-1)\n",
       "    (fc1): Linear(in_features=500, out_features=18, bias=True)\n",
       "  )\n",
       ")"
      ]
     },
     "execution_count": 5,
     "metadata": {},
     "output_type": "execute_result"
    }
   ],
   "source": [
    "trained_model = MLPModel()\n",
    "trained_model.load_state_dict(torch.load('model_20231128_072156_3'))\n",
    "trained_model.eval()"
   ]
  },
  {
   "cell_type": "code",
   "execution_count": 6,
   "id": "2ab9961d",
   "metadata": {},
   "outputs": [
    {
     "name": "stderr",
     "output_type": "stream",
     "text": [
      "100%|██████████| 38171/38171 [32:37<00:00, 19.50it/s]  \n"
     ]
    }
   ],
   "source": [
    "with h5py.File(predictions_savepath,'w') as savefile:\n",
    "    savefile.create_dataset(\n",
    "        'single_bin',\n",
    "        shape=(len(dset),1,18),\n",
    "        chunks=(1,1,18),\n",
    "        compression='gzip',\n",
    "        compression_opts=9,\n",
    "    )\n",
    "    for i in tqdm(range(len(dset))):\n",
    "        inputs = torch.Tensor(f['embeddings'][i]).reshape([1,896,1536])\n",
    "        predictions = trained_model(inputs.transpose(1,2))\n",
    "        savefile['single_bin'][i,:,:] = predictions.detach()\n"
   ]
  },
  {
   "cell_type": "code",
   "execution_count": null,
   "id": "9fc50adb",
   "metadata": {},
   "outputs": [],
   "source": []
  }
 ],
 "metadata": {
  "kernelspec": {
   "display_name": "pytorch_cs282a_mlp",
   "language": "python",
   "name": "pytorch_cs282a_mlp"
  },
  "language_info": {
   "codemirror_mode": {
    "name": "ipython",
    "version": 3
   },
   "file_extension": ".py",
   "mimetype": "text/x-python",
   "name": "python",
   "nbconvert_exporter": "python",
   "pygments_lexer": "ipython3",
   "version": "3.8.18"
  }
 },
 "nbformat": 4,
 "nbformat_minor": 5
}
